{
 "cells": [
  {
   "cell_type": "code",
   "execution_count": 3,
   "metadata": {
    "tags": []
   },
   "outputs": [
    {
     "name": "stdout",
     "output_type": "stream",
     "text": [
      "Found existing installation: scikit-learn 1.4.1.post1\n",
      "Uninstalling scikit-learn-1.4.1.post1:\n",
      "  Successfully uninstalled scikit-learn-1.4.1.post1\n"
     ]
    },
    {
     "name": "stderr",
     "output_type": "stream",
     "text": [
      "WARNING: Failed to remove contents in a temporary directory 'C:\\Users\\sudwa\\anaconda3\\Lib\\site-packages\\~klearn'.\n",
      "You can safely remove it manually.\n",
      "WARNING: Skipping imblearn as it is not installed.\n"
     ]
    },
    {
     "name": "stdout",
     "output_type": "stream",
     "text": [
      "Collecting scikit-learn==1.2.2\n",
      "  Downloading scikit_learn-1.2.2-cp311-cp311-win_amd64.whl.metadata (11 kB)\n",
      "Requirement already satisfied: numpy>=1.17.3 in c:\\users\\sudwa\\anaconda3\\lib\\site-packages (from scikit-learn==1.2.2) (1.24.3)\n",
      "Requirement already satisfied: scipy>=1.3.2 in c:\\users\\sudwa\\anaconda3\\lib\\site-packages (from scikit-learn==1.2.2) (1.11.1)\n",
      "Requirement already satisfied: joblib>=1.1.1 in c:\\users\\sudwa\\anaconda3\\lib\\site-packages (from scikit-learn==1.2.2) (1.2.0)\n",
      "Requirement already satisfied: threadpoolctl>=2.0.0 in c:\\users\\sudwa\\anaconda3\\lib\\site-packages (from scikit-learn==1.2.2) (2.2.0)\n",
      "Downloading scikit_learn-1.2.2-cp311-cp311-win_amd64.whl (8.3 MB)\n",
      "   ---------------------------------------- 0.0/8.3 MB ? eta -:--:--\n",
      "   ---------------------------------------- 0.0/8.3 MB ? eta -:--:--\n",
      "   ---------------------------------------- 0.0/8.3 MB ? eta -:--:--\n",
      "   ---------------------------------------- 0.1/8.3 MB 812.7 kB/s eta 0:00:11\n",
      "    --------------------------------------- 0.2/8.3 MB 1.4 MB/s eta 0:00:06\n",
      "   - -------------------------------------- 0.2/8.3 MB 1.5 MB/s eta 0:00:06\n",
      "   - -------------------------------------- 0.3/8.3 MB 1.3 MB/s eta 0:00:07\n",
      "   - -------------------------------------- 0.4/8.3 MB 1.5 MB/s eta 0:00:06\n",
      "   -- ------------------------------------- 0.5/8.3 MB 1.7 MB/s eta 0:00:05\n",
      "   --- ------------------------------------ 0.6/8.3 MB 2.0 MB/s eta 0:00:04\n",
      "   --- ------------------------------------ 0.7/8.3 MB 2.0 MB/s eta 0:00:04\n",
      "   ---- ----------------------------------- 0.9/8.3 MB 2.1 MB/s eta 0:00:04\n",
      "   ---- ----------------------------------- 1.0/8.3 MB 2.2 MB/s eta 0:00:04\n",
      "   ---- ----------------------------------- 1.0/8.3 MB 2.1 MB/s eta 0:00:04\n",
      "   ----- ---------------------------------- 1.2/8.3 MB 2.2 MB/s eta 0:00:04\n",
      "   ------ --------------------------------- 1.4/8.3 MB 2.3 MB/s eta 0:00:03\n",
      "   ------- -------------------------------- 1.5/8.3 MB 2.4 MB/s eta 0:00:03\n",
      "   ------- -------------------------------- 1.6/8.3 MB 2.4 MB/s eta 0:00:03\n",
      "   -------- ------------------------------- 1.8/8.3 MB 2.5 MB/s eta 0:00:03\n",
      "   --------- ------------------------------ 1.9/8.3 MB 2.5 MB/s eta 0:00:03\n",
      "   --------- ------------------------------ 2.1/8.3 MB 2.6 MB/s eta 0:00:03\n",
      "   ---------- ----------------------------- 2.2/8.3 MB 2.7 MB/s eta 0:00:03\n",
      "   ----------- ---------------------------- 2.4/8.3 MB 2.7 MB/s eta 0:00:03\n",
      "   ------------ --------------------------- 2.5/8.3 MB 2.7 MB/s eta 0:00:03\n",
      "   ------------ --------------------------- 2.6/8.3 MB 2.8 MB/s eta 0:00:03\n",
      "   ------------- -------------------------- 2.8/8.3 MB 2.8 MB/s eta 0:00:02\n",
      "   -------------- ------------------------- 2.9/8.3 MB 2.8 MB/s eta 0:00:02\n",
      "   -------------- ------------------------- 3.1/8.3 MB 2.9 MB/s eta 0:00:02\n",
      "   --------------- ------------------------ 3.2/8.3 MB 2.9 MB/s eta 0:00:02\n",
      "   ---------------- ----------------------- 3.4/8.3 MB 2.9 MB/s eta 0:00:02\n",
      "   ----------------- ---------------------- 3.5/8.3 MB 2.9 MB/s eta 0:00:02\n",
      "   ----------------- ---------------------- 3.7/8.3 MB 3.0 MB/s eta 0:00:02\n",
      "   ------------------ --------------------- 3.8/8.3 MB 3.0 MB/s eta 0:00:02\n",
      "   ------------------- -------------------- 4.0/8.3 MB 3.0 MB/s eta 0:00:02\n",
      "   -------------------- ------------------- 4.1/8.3 MB 3.0 MB/s eta 0:00:02\n",
      "   -------------------- ------------------- 4.3/8.3 MB 3.0 MB/s eta 0:00:02\n",
      "   --------------------- ------------------ 4.4/8.3 MB 3.0 MB/s eta 0:00:02\n",
      "   ---------------------- ----------------- 4.6/8.3 MB 3.1 MB/s eta 0:00:02\n",
      "   ---------------------- ----------------- 4.7/8.3 MB 3.1 MB/s eta 0:00:02\n",
      "   ----------------------- ---------------- 4.9/8.3 MB 3.1 MB/s eta 0:00:02\n",
      "   ------------------------ --------------- 5.0/8.3 MB 3.1 MB/s eta 0:00:02\n",
      "   ------------------------ --------------- 5.2/8.3 MB 3.1 MB/s eta 0:00:02\n",
      "   ------------------------- -------------- 5.3/8.3 MB 3.1 MB/s eta 0:00:01\n",
      "   -------------------------- ------------- 5.5/8.3 MB 3.1 MB/s eta 0:00:01\n",
      "   --------------------------- ------------ 5.6/8.3 MB 3.1 MB/s eta 0:00:01\n",
      "   --------------------------- ------------ 5.8/8.3 MB 3.1 MB/s eta 0:00:01\n",
      "   ---------------------------- ----------- 5.9/8.3 MB 3.1 MB/s eta 0:00:01\n",
      "   ----------------------------- ---------- 6.1/8.3 MB 3.1 MB/s eta 0:00:01\n",
      "   ------------------------------ --------- 6.2/8.3 MB 3.1 MB/s eta 0:00:01\n",
      "   ------------------------------ --------- 6.4/8.3 MB 3.2 MB/s eta 0:00:01\n",
      "   ------------------------------- -------- 6.5/8.3 MB 3.2 MB/s eta 0:00:01\n",
      "   -------------------------------- ------- 6.6/8.3 MB 3.2 MB/s eta 0:00:01\n",
      "   -------------------------------- ------- 6.8/8.3 MB 3.2 MB/s eta 0:00:01\n",
      "   --------------------------------- ------ 6.9/8.3 MB 3.2 MB/s eta 0:00:01\n",
      "   ---------------------------------- ----- 7.1/8.3 MB 3.2 MB/s eta 0:00:01\n",
      "   ----------------------------------- ---- 7.2/8.3 MB 3.2 MB/s eta 0:00:01\n",
      "   ----------------------------------- ---- 7.4/8.3 MB 3.2 MB/s eta 0:00:01\n",
      "   ------------------------------------ --- 7.5/8.3 MB 3.2 MB/s eta 0:00:01\n",
      "   ------------------------------------- -- 7.7/8.3 MB 3.2 MB/s eta 0:00:01\n",
      "   ------------------------------------- -- 7.8/8.3 MB 3.2 MB/s eta 0:00:01\n",
      "   -------------------------------------- - 8.0/8.3 MB 3.2 MB/s eta 0:00:01\n",
      "   ---------------------------------------  8.2/8.3 MB 3.2 MB/s eta 0:00:01\n",
      "   ---------------------------------------  8.3/8.3 MB 3.2 MB/s eta 0:00:01\n",
      "   ---------------------------------------  8.3/8.3 MB 3.2 MB/s eta 0:00:01\n",
      "   ---------------------------------------  8.3/8.3 MB 3.2 MB/s eta 0:00:01\n",
      "   ---------------------------------------- 8.3/8.3 MB 3.1 MB/s eta 0:00:00\n",
      "Installing collected packages: scikit-learn\n",
      "Successfully installed scikit-learn-1.2.2\n",
      "Collecting imblearn\n",
      "  Downloading imblearn-0.0-py2.py3-none-any.whl.metadata (355 bytes)\n",
      "Requirement already satisfied: imbalanced-learn in c:\\users\\sudwa\\anaconda3\\lib\\site-packages (from imblearn) (0.10.1)\n",
      "Requirement already satisfied: numpy>=1.17.3 in c:\\users\\sudwa\\anaconda3\\lib\\site-packages (from imbalanced-learn->imblearn) (1.24.3)\n",
      "Requirement already satisfied: scipy>=1.3.2 in c:\\users\\sudwa\\anaconda3\\lib\\site-packages (from imbalanced-learn->imblearn) (1.11.1)\n",
      "Requirement already satisfied: scikit-learn>=1.0.2 in c:\\users\\sudwa\\anaconda3\\lib\\site-packages (from imbalanced-learn->imblearn) (1.2.2)\n",
      "Requirement already satisfied: joblib>=1.1.1 in c:\\users\\sudwa\\anaconda3\\lib\\site-packages (from imbalanced-learn->imblearn) (1.2.0)\n",
      "Requirement already satisfied: threadpoolctl>=2.0.0 in c:\\users\\sudwa\\anaconda3\\lib\\site-packages (from imbalanced-learn->imblearn) (2.2.0)\n",
      "Downloading imblearn-0.0-py2.py3-none-any.whl (1.9 kB)\n",
      "Installing collected packages: imblearn\n",
      "Successfully installed imblearn-0.0\n"
     ]
    }
   ],
   "source": [
    "#!pip install lazypredict\n",
    "#!pip install -U scikit-learn\n",
    "!pip uninstall scikit-learn --yes\n",
    "!pip uninstall imblearn --yes\n",
    "!pip install scikit-learn==1.2.2\n",
    "!pip install imblearn"
   ]
  },
  {
   "cell_type": "markdown",
   "metadata": {},
   "source": [
    "## Import Libraries"
   ]
  },
  {
   "cell_type": "code",
   "execution_count": 1,
   "metadata": {
    "tags": []
   },
   "outputs": [],
   "source": [
    "import pandas as pd \n",
    "import numpy as np\n",
    "import seaborn as sns\n",
    "import matplotlib.pyplot as plt\n",
    "from sklearn.ensemble import RandomForestClassifier\n",
    "from sklearn.metrics import confusion_matrix,classification_report,accuracy_score\n",
    "from sklearn.linear_model import LogisticRegression\n",
    "from sklearn.naive_bayes import GaussianNB\n",
    "from sklearn.tree import DecisionTreeClassifier\n",
    "from sklearn.neighbors import KNeighborsClassifier\n",
    "from sklearn.model_selection import train_test_split\n",
    "from sklearn.model_selection import cross_val_score\n",
    "\n",
    "#preprocess\n",
    "from sklearn.preprocessing import OneHotEncoder, LabelEncoder\n",
    "from sklearn.preprocessing import StandardScaler\n",
    "from sklearn.utils import resample\n",
    "\n",
    "from sklearn.impute import KNNImputer\n",
    "from imblearn.over_sampling import SMOTENC,RandomOverSampler,KMeansSMOTE\n",
    "import warnings\n",
    "warnings.filterwarnings(\"ignore\")\n",
    "\n",
    "\n"
   ]
  },
  {
   "cell_type": "markdown",
   "metadata": {},
   "source": [
    "## Load Dataset"
   ]
  },
  {
   "cell_type": "code",
   "execution_count": 3,
   "metadata": {
    "tags": []
   },
   "outputs": [
    {
     "data": {
      "text/html": [
       "<div>\n",
       "<style scoped>\n",
       "    .dataframe tbody tr th:only-of-type {\n",
       "        vertical-align: middle;\n",
       "    }\n",
       "\n",
       "    .dataframe tbody tr th {\n",
       "        vertical-align: top;\n",
       "    }\n",
       "\n",
       "    .dataframe thead th {\n",
       "        text-align: right;\n",
       "    }\n",
       "</style>\n",
       "<table border=\"1\" class=\"dataframe\">\n",
       "  <thead>\n",
       "    <tr style=\"text-align: right;\">\n",
       "      <th></th>\n",
       "      <th>Unnamed: 0</th>\n",
       "      <th>age</th>\n",
       "      <th>sex</th>\n",
       "      <th>on_thyroxine</th>\n",
       "      <th>query_on_thyroxine</th>\n",
       "      <th>on_antithyroid_medication</th>\n",
       "      <th>sick</th>\n",
       "      <th>pregnant</th>\n",
       "      <th>thyroid_surgery</th>\n",
       "      <th>I131_treatment</th>\n",
       "      <th>...</th>\n",
       "      <th>TT4_measured</th>\n",
       "      <th>TT4</th>\n",
       "      <th>T4U_measured</th>\n",
       "      <th>T4U</th>\n",
       "      <th>FTI_measured</th>\n",
       "      <th>FTI</th>\n",
       "      <th>TBG_measured</th>\n",
       "      <th>TBG</th>\n",
       "      <th>referral_source</th>\n",
       "      <th>classes</th>\n",
       "    </tr>\n",
       "  </thead>\n",
       "  <tbody>\n",
       "    <tr>\n",
       "      <th>0</th>\n",
       "      <td>0</td>\n",
       "      <td>41.0</td>\n",
       "      <td>F</td>\n",
       "      <td>f</td>\n",
       "      <td>f</td>\n",
       "      <td>f</td>\n",
       "      <td>f</td>\n",
       "      <td>f</td>\n",
       "      <td>f</td>\n",
       "      <td>f</td>\n",
       "      <td>...</td>\n",
       "      <td>t</td>\n",
       "      <td>125.0</td>\n",
       "      <td>t</td>\n",
       "      <td>1.14</td>\n",
       "      <td>t</td>\n",
       "      <td>109.0</td>\n",
       "      <td>f</td>\n",
       "      <td>NaN</td>\n",
       "      <td>SVHC</td>\n",
       "      <td>negative</td>\n",
       "    </tr>\n",
       "    <tr>\n",
       "      <th>1</th>\n",
       "      <td>1</td>\n",
       "      <td>23.0</td>\n",
       "      <td>F</td>\n",
       "      <td>f</td>\n",
       "      <td>f</td>\n",
       "      <td>f</td>\n",
       "      <td>f</td>\n",
       "      <td>f</td>\n",
       "      <td>f</td>\n",
       "      <td>f</td>\n",
       "      <td>...</td>\n",
       "      <td>t</td>\n",
       "      <td>102.0</td>\n",
       "      <td>f</td>\n",
       "      <td>NaN</td>\n",
       "      <td>f</td>\n",
       "      <td>NaN</td>\n",
       "      <td>f</td>\n",
       "      <td>NaN</td>\n",
       "      <td>other</td>\n",
       "      <td>negative</td>\n",
       "    </tr>\n",
       "    <tr>\n",
       "      <th>2</th>\n",
       "      <td>2</td>\n",
       "      <td>46.0</td>\n",
       "      <td>M</td>\n",
       "      <td>f</td>\n",
       "      <td>f</td>\n",
       "      <td>f</td>\n",
       "      <td>f</td>\n",
       "      <td>f</td>\n",
       "      <td>f</td>\n",
       "      <td>f</td>\n",
       "      <td>...</td>\n",
       "      <td>t</td>\n",
       "      <td>109.0</td>\n",
       "      <td>t</td>\n",
       "      <td>0.91</td>\n",
       "      <td>t</td>\n",
       "      <td>120.0</td>\n",
       "      <td>f</td>\n",
       "      <td>NaN</td>\n",
       "      <td>other</td>\n",
       "      <td>negative</td>\n",
       "    </tr>\n",
       "    <tr>\n",
       "      <th>3</th>\n",
       "      <td>3</td>\n",
       "      <td>70.0</td>\n",
       "      <td>F</td>\n",
       "      <td>t</td>\n",
       "      <td>f</td>\n",
       "      <td>f</td>\n",
       "      <td>f</td>\n",
       "      <td>f</td>\n",
       "      <td>f</td>\n",
       "      <td>f</td>\n",
       "      <td>...</td>\n",
       "      <td>t</td>\n",
       "      <td>175.0</td>\n",
       "      <td>f</td>\n",
       "      <td>NaN</td>\n",
       "      <td>f</td>\n",
       "      <td>NaN</td>\n",
       "      <td>f</td>\n",
       "      <td>NaN</td>\n",
       "      <td>other</td>\n",
       "      <td>negative</td>\n",
       "    </tr>\n",
       "    <tr>\n",
       "      <th>4</th>\n",
       "      <td>4</td>\n",
       "      <td>70.0</td>\n",
       "      <td>F</td>\n",
       "      <td>f</td>\n",
       "      <td>f</td>\n",
       "      <td>f</td>\n",
       "      <td>f</td>\n",
       "      <td>f</td>\n",
       "      <td>f</td>\n",
       "      <td>f</td>\n",
       "      <td>...</td>\n",
       "      <td>t</td>\n",
       "      <td>61.0</td>\n",
       "      <td>t</td>\n",
       "      <td>0.87</td>\n",
       "      <td>t</td>\n",
       "      <td>70.0</td>\n",
       "      <td>f</td>\n",
       "      <td>NaN</td>\n",
       "      <td>SVI</td>\n",
       "      <td>negative</td>\n",
       "    </tr>\n",
       "  </tbody>\n",
       "</table>\n",
       "<p>5 rows × 31 columns</p>\n",
       "</div>"
      ],
      "text/plain": [
       "   Unnamed: 0   age sex on_thyroxine query_on_thyroxine  \\\n",
       "0           0  41.0   F            f                  f   \n",
       "1           1  23.0   F            f                  f   \n",
       "2           2  46.0   M            f                  f   \n",
       "3           3  70.0   F            t                  f   \n",
       "4           4  70.0   F            f                  f   \n",
       "\n",
       "  on_antithyroid_medication sick pregnant thyroid_surgery I131_treatment  ...  \\\n",
       "0                         f    f        f               f              f  ...   \n",
       "1                         f    f        f               f              f  ...   \n",
       "2                         f    f        f               f              f  ...   \n",
       "3                         f    f        f               f              f  ...   \n",
       "4                         f    f        f               f              f  ...   \n",
       "\n",
       "  TT4_measured    TT4 T4U_measured   T4U FTI_measured    FTI TBG_measured TBG  \\\n",
       "0            t  125.0            t  1.14            t  109.0            f NaN   \n",
       "1            t  102.0            f   NaN            f    NaN            f NaN   \n",
       "2            t  109.0            t  0.91            t  120.0            f NaN   \n",
       "3            t  175.0            f   NaN            f    NaN            f NaN   \n",
       "4            t   61.0            t  0.87            t   70.0            f NaN   \n",
       "\n",
       "   referral_source   classes  \n",
       "0             SVHC  negative  \n",
       "1            other  negative  \n",
       "2            other  negative  \n",
       "3            other  negative  \n",
       "4              SVI  negative  \n",
       "\n",
       "[5 rows x 31 columns]"
      ]
     },
     "execution_count": 3,
     "metadata": {},
     "output_type": "execute_result"
    }
   ],
   "source": [
    "df = pd.read_csv(r\"../notebook/thyroid.csv\")#,header=None)\n",
    "df.head(5)\n"
   ]
  },
  {
   "cell_type": "markdown",
   "metadata": {},
   "source": [
    "## Data Pre-process"
   ]
  },
  {
   "cell_type": "code",
   "execution_count": 5,
   "metadata": {
    "tags": []
   },
   "outputs": [
    {
     "ename": "IndentationError",
     "evalue": "unexpected indent (4094837848.py, line 3)",
     "output_type": "error",
     "traceback": [
      "\u001b[1;36m  Cell \u001b[1;32mIn[5], line 3\u001b[1;36m\u001b[0m\n\u001b[1;33m    'on_antithyroid_medication', 'sick', 'pregnant', 'thyroid_surgery',\u001b[0m\n\u001b[1;37m    ^\u001b[0m\n\u001b[1;31mIndentationError\u001b[0m\u001b[1;31m:\u001b[0m unexpected indent\n"
     ]
    }
   ],
   "source": [
    "#working columns name\n",
    "#df=df[['age', 'sex', 'on_thyroxine', 'query_on_thyroxine',\n",
    "       'on_antithyroid_medication', 'sick', 'pregnant', 'thyroid_surgery',\n",
    "       'I131_treatment', 'query_hypothyroid', 'query_hyperthyroid', 'lithium',\n",
    "       'goitre', 'tumor', 'hypopituitary', 'psych', 'TSH_measured', 'TSH',\n",
    "       'T3_measured', 'T3', 'TT4_measured', 'TT4', 'T4U_measured', 'T4U',\n",
    "       'FTI_measured', 'FTI', 'TBG_measured', 'TBG', 'referral_source',\n",
    "       'classes']]\n",
    "#df"
   ]
  },
  {
   "cell_type": "code",
   "execution_count": 6,
   "metadata": {
    "tags": []
   },
   "outputs": [
    {
     "name": "stdout",
     "output_type": "stream",
     "text": [
      "<class 'pandas.core.frame.DataFrame'>\n",
      "RangeIndex: 2800 entries, 0 to 2799\n",
      "Data columns (total 31 columns):\n",
      " #   Column                     Non-Null Count  Dtype  \n",
      "---  ------                     --------------  -----  \n",
      " 0   Unnamed: 0                 2800 non-null   int64  \n",
      " 1   age                        2799 non-null   float64\n",
      " 2   sex                        2690 non-null   object \n",
      " 3   on_thyroxine               2800 non-null   object \n",
      " 4   query_on_thyroxine         2800 non-null   object \n",
      " 5   on_antithyroid_medication  2800 non-null   object \n",
      " 6   sick                       2800 non-null   object \n",
      " 7   pregnant                   2800 non-null   object \n",
      " 8   thyroid_surgery            2800 non-null   object \n",
      " 9   I131_treatment             2800 non-null   object \n",
      " 10  query_hypothyroid          2800 non-null   object \n",
      " 11  query_hyperthyroid         2800 non-null   object \n",
      " 12  lithium                    2800 non-null   object \n",
      " 13  goitre                     2800 non-null   object \n",
      " 14  tumor                      2800 non-null   object \n",
      " 15  hypopituitary              2800 non-null   object \n",
      " 16  psych                      2800 non-null   object \n",
      " 17  TSH_measured               2800 non-null   object \n",
      " 18  TSH                        2516 non-null   float64\n",
      " 19  T3_measured                2800 non-null   object \n",
      " 20  T3                         2215 non-null   float64\n",
      " 21  TT4_measured               2800 non-null   object \n",
      " 22  TT4                        2616 non-null   float64\n",
      " 23  T4U_measured               2800 non-null   object \n",
      " 24  T4U                        2503 non-null   float64\n",
      " 25  FTI_measured               2800 non-null   object \n",
      " 26  FTI                        2505 non-null   float64\n",
      " 27  TBG_measured               2800 non-null   object \n",
      " 28  TBG                        0 non-null      float64\n",
      " 29  referral_source            2800 non-null   object \n",
      " 30  classes                    2800 non-null   object \n",
      "dtypes: float64(7), int64(1), object(23)\n",
      "memory usage: 678.3+ KB\n"
     ]
    }
   ],
   "source": [
    "df.info()"
   ]
  },
  {
   "cell_type": "code",
   "execution_count": 7,
   "metadata": {
    "tags": []
   },
   "outputs": [
    {
     "name": "stdout",
     "output_type": "stream",
     "text": [
      "(2800, 31)\n"
     ]
    },
    {
     "data": {
      "text/html": [
       "<div>\n",
       "<style scoped>\n",
       "    .dataframe tbody tr th:only-of-type {\n",
       "        vertical-align: middle;\n",
       "    }\n",
       "\n",
       "    .dataframe tbody tr th {\n",
       "        vertical-align: top;\n",
       "    }\n",
       "\n",
       "    .dataframe thead th {\n",
       "        text-align: right;\n",
       "    }\n",
       "</style>\n",
       "<table border=\"1\" class=\"dataframe\">\n",
       "  <thead>\n",
       "    <tr style=\"text-align: right;\">\n",
       "      <th></th>\n",
       "      <th>Unnamed: 0</th>\n",
       "      <th>age</th>\n",
       "      <th>TSH</th>\n",
       "      <th>T3</th>\n",
       "      <th>TT4</th>\n",
       "      <th>T4U</th>\n",
       "      <th>FTI</th>\n",
       "      <th>TBG</th>\n",
       "    </tr>\n",
       "  </thead>\n",
       "  <tbody>\n",
       "    <tr>\n",
       "      <th>count</th>\n",
       "      <td>2800.000000</td>\n",
       "      <td>2799.00000</td>\n",
       "      <td>2516.000000</td>\n",
       "      <td>2215.000000</td>\n",
       "      <td>2616.000000</td>\n",
       "      <td>2503.000000</td>\n",
       "      <td>2505.000000</td>\n",
       "      <td>0.0</td>\n",
       "    </tr>\n",
       "    <tr>\n",
       "      <th>mean</th>\n",
       "      <td>1399.500000</td>\n",
       "      <td>51.84423</td>\n",
       "      <td>4.672150</td>\n",
       "      <td>2.024966</td>\n",
       "      <td>109.072401</td>\n",
       "      <td>0.997912</td>\n",
       "      <td>110.787984</td>\n",
       "      <td>NaN</td>\n",
       "    </tr>\n",
       "    <tr>\n",
       "      <th>std</th>\n",
       "      <td>808.434702</td>\n",
       "      <td>20.46116</td>\n",
       "      <td>21.449453</td>\n",
       "      <td>0.824600</td>\n",
       "      <td>35.392443</td>\n",
       "      <td>0.194390</td>\n",
       "      <td>32.883986</td>\n",
       "      <td>NaN</td>\n",
       "    </tr>\n",
       "    <tr>\n",
       "      <th>min</th>\n",
       "      <td>0.000000</td>\n",
       "      <td>1.00000</td>\n",
       "      <td>0.005000</td>\n",
       "      <td>0.050000</td>\n",
       "      <td>2.000000</td>\n",
       "      <td>0.310000</td>\n",
       "      <td>2.000000</td>\n",
       "      <td>NaN</td>\n",
       "    </tr>\n",
       "    <tr>\n",
       "      <th>25%</th>\n",
       "      <td>699.750000</td>\n",
       "      <td>36.00000</td>\n",
       "      <td>0.440000</td>\n",
       "      <td>1.600000</td>\n",
       "      <td>88.000000</td>\n",
       "      <td>0.880000</td>\n",
       "      <td>93.000000</td>\n",
       "      <td>NaN</td>\n",
       "    </tr>\n",
       "    <tr>\n",
       "      <th>50%</th>\n",
       "      <td>1399.500000</td>\n",
       "      <td>54.00000</td>\n",
       "      <td>1.400000</td>\n",
       "      <td>2.000000</td>\n",
       "      <td>104.000000</td>\n",
       "      <td>0.980000</td>\n",
       "      <td>107.000000</td>\n",
       "      <td>NaN</td>\n",
       "    </tr>\n",
       "    <tr>\n",
       "      <th>75%</th>\n",
       "      <td>2099.250000</td>\n",
       "      <td>67.00000</td>\n",
       "      <td>2.600000</td>\n",
       "      <td>2.400000</td>\n",
       "      <td>125.000000</td>\n",
       "      <td>1.080000</td>\n",
       "      <td>124.000000</td>\n",
       "      <td>NaN</td>\n",
       "    </tr>\n",
       "    <tr>\n",
       "      <th>max</th>\n",
       "      <td>2799.000000</td>\n",
       "      <td>455.00000</td>\n",
       "      <td>478.000000</td>\n",
       "      <td>10.600000</td>\n",
       "      <td>430.000000</td>\n",
       "      <td>2.120000</td>\n",
       "      <td>395.000000</td>\n",
       "      <td>NaN</td>\n",
       "    </tr>\n",
       "  </tbody>\n",
       "</table>\n",
       "</div>"
      ],
      "text/plain": [
       "        Unnamed: 0         age          TSH           T3          TT4  \\\n",
       "count  2800.000000  2799.00000  2516.000000  2215.000000  2616.000000   \n",
       "mean   1399.500000    51.84423     4.672150     2.024966   109.072401   \n",
       "std     808.434702    20.46116    21.449453     0.824600    35.392443   \n",
       "min       0.000000     1.00000     0.005000     0.050000     2.000000   \n",
       "25%     699.750000    36.00000     0.440000     1.600000    88.000000   \n",
       "50%    1399.500000    54.00000     1.400000     2.000000   104.000000   \n",
       "75%    2099.250000    67.00000     2.600000     2.400000   125.000000   \n",
       "max    2799.000000   455.00000   478.000000    10.600000   430.000000   \n",
       "\n",
       "               T4U          FTI  TBG  \n",
       "count  2503.000000  2505.000000  0.0  \n",
       "mean      0.997912   110.787984  NaN  \n",
       "std       0.194390    32.883986  NaN  \n",
       "min       0.310000     2.000000  NaN  \n",
       "25%       0.880000    93.000000  NaN  \n",
       "50%       0.980000   107.000000  NaN  \n",
       "75%       1.080000   124.000000  NaN  \n",
       "max       2.120000   395.000000  NaN  "
      ]
     },
     "execution_count": 7,
     "metadata": {},
     "output_type": "execute_result"
    }
   ],
   "source": [
    "print(df.shape)\n",
    "\n",
    "df.describe()\n"
   ]
  },
  {
   "cell_type": "code",
   "execution_count": 8,
   "metadata": {
    "tags": []
   },
   "outputs": [
    {
     "data": {
      "text/plain": [
       "Unnamed: 0                      0\n",
       "age                             1\n",
       "sex                           110\n",
       "on_thyroxine                    0\n",
       "query_on_thyroxine              0\n",
       "on_antithyroid_medication       0\n",
       "sick                            0\n",
       "pregnant                        0\n",
       "thyroid_surgery                 0\n",
       "I131_treatment                  0\n",
       "query_hypothyroid               0\n",
       "query_hyperthyroid              0\n",
       "lithium                         0\n",
       "goitre                          0\n",
       "tumor                           0\n",
       "hypopituitary                   0\n",
       "psych                           0\n",
       "TSH_measured                    0\n",
       "TSH                           284\n",
       "T3_measured                     0\n",
       "T3                            585\n",
       "TT4_measured                    0\n",
       "TT4                           184\n",
       "T4U_measured                    0\n",
       "T4U                           297\n",
       "FTI_measured                    0\n",
       "FTI                           295\n",
       "TBG_measured                    0\n",
       "TBG                          2800\n",
       "referral_source                 0\n",
       "classes                         0\n",
       "dtype: int64"
      ]
     },
     "execution_count": 8,
     "metadata": {},
     "output_type": "execute_result"
    }
   ],
   "source": [
    "# is null value\n",
    "df.isnull().sum()\n"
   ]
  },
  {
   "cell_type": "code",
   "execution_count": 9,
   "metadata": {
    "tags": []
   },
   "outputs": [],
   "source": [
    "#df.columns=[x.lower() for x in df.columns]\n",
    "#df.head()\n"
   ]
  },
  {
   "cell_type": "code",
   "execution_count": 10,
   "metadata": {
    "tags": []
   },
   "outputs": [
    {
     "data": {
      "text/plain": [
       "array(['negative', 'compensated hypothyroid', 'primary hypothyroid',\n",
       "       'secondary hypothyroid'], dtype=object)"
      ]
     },
     "execution_count": 10,
     "metadata": {},
     "output_type": "execute_result"
    }
   ],
   "source": [
    "#target\n",
    "#Checking for unique values in classes column\n",
    "df['classes'].unique()"
   ]
  },
  {
   "cell_type": "code",
   "execution_count": 11,
   "metadata": {
    "tags": []
   },
   "outputs": [
    {
     "name": "stdout",
     "output_type": "stream",
     "text": [
      "negative: 2580\n",
      "compensated hypothyroid 154\n",
      "primary hypothyroid: 64\n",
      "secondary hypothyroid: 2\n"
     ]
    }
   ],
   "source": [
    "n = len(df[df['classes'] == 'negative'])\n",
    "print('negative:',n)\n",
    "n = len(df[df['classes'] == 'compensated hypothyroid'])\n",
    "print('compensated hypothyroid',n)\n",
    "n = len(df[df['classes'] == 'primary hypothyroid'])\n",
    "print('primary hypothyroid:',n)\n",
    "n = len(df[df['classes'] == 'secondary hypothyroid'])\n",
    "print('secondary hypothyroid:',n)"
   ]
  },
  {
   "cell_type": "code",
   "execution_count": 12,
   "metadata": {
    "tags": []
   },
   "outputs": [
    {
     "data": {
      "text/plain": [
       "<Axes: >"
      ]
     },
     "execution_count": 12,
     "metadata": {},
     "output_type": "execute_result"
    },
    {
     "data": {
      "image/png": "[encoded data removed]",
      "text/plain": [
       "<Figure size 640x480 with 1 Axes>"
      ]
     },
     "metadata": {},
     "output_type": "display_data"
    }
   ],
   "source": [
    "sns.scatterplot(df)"
   ]
  },
  {
   "cell_type": "code",
   "execution_count": 13,
   "metadata": {
    "tags": []
   },
   "outputs": [],
   "source": [
    "#age,sex,tsh,t3,tt4,t4u,fti,tbg == having null values\n"
   ]
  },
  {
   "cell_type": "code",
   "execution_count": 17,
   "metadata": {
    "tags": []
   },
   "outputs": [
    {
     "name": "stdout",
     "output_type": "stream",
     "text": [
      "age: 1\n",
      "sex: 110\n",
      "TSH : 284\n",
      "T3: 585\n",
      "TT4: 184\n",
      "T4U: 297\n",
      "FTI: 295\n",
      "TBG: 2800\n"
     ]
    }
   ],
   "source": [
    "print('age:',df['age'].isnull().sum())\n",
    "print('sex:',df['sex'].isnull().sum())\n",
    "print('TSH :',df['TSH'].isnull().sum())\n",
    "print('T3:',df['T3'].isnull().sum())\n",
    "print('TT4:',df['TT4'].isnull().sum())\n",
    "print('T4U:',df['T4U'].isnull().sum())\n",
    "print('FTI:',df['FTI'].isnull().sum())\n",
    "print('TBG:',df['TBG'].isnull().sum())"
   ]
  },
  {
   "cell_type": "code",
   "execution_count": 18,
   "metadata": {
    "tags": []
   },
   "outputs": [
    {
     "data": {
      "text/plain": [
       "<Axes: xlabel='classes', ylabel='age'>"
      ]
     },
     "execution_count": 18,
     "metadata": {},
     "output_type": "execute_result"
    },
    {
     "data": {
      "image/png": "[encoded data removed]",
      "text/plain": [
       "<Figure size 640x480 with 1 Axes>"
      ]
     },
     "metadata": {},
     "output_type": "display_data"
    }
   ],
   "source": [
    "sns.boxplot( data=df, x='classes', y='age')"
   ]
  },
  {
   "cell_type": "code",
   "execution_count": 20,
   "metadata": {
    "tags": []
   },
   "outputs": [
    {
     "data": {
      "text/plain": [
       "<Axes: xlabel='classes', ylabel='TSH'>"
      ]
     },
     "execution_count": 20,
     "metadata": {},
     "output_type": "execute_result"
    },
    {
     "data": {
      "image/png": "[encoded data removed]",
      "text/plain": [
       "<Figure size 640x480 with 1 Axes>"
      ]
     },
     "metadata": {},
     "output_type": "display_data"
    }
   ],
   "source": [
    "sns.boxplot(data=df, x='classes', y='TSH')\n"
   ]
  },
  {
   "cell_type": "code",
   "execution_count": 21,
   "metadata": {
    "tags": []
   },
   "outputs": [
    {
     "data": {
      "text/plain": [
       "<Axes: xlabel='classes', ylabel='T3'>"
      ]
     },
     "execution_count": 21,
     "metadata": {},
     "output_type": "execute_result"
    },
    {
     "data": {
      "image/png": "[encoded data removed]",
      "text/plain": [
       "<Figure size 640x480 with 1 Axes>"
      ]
     },
     "metadata": {},
     "output_type": "display_data"
    }
   ],
   "source": [
    "sns.boxplot(data=df, x='classes', y='T3')\n"
   ]
  },
  {
   "cell_type": "code",
   "execution_count": 22,
   "metadata": {
    "tags": []
   },
   "outputs": [
    {
     "data": {
      "text/plain": [
       "<Axes: xlabel='classes', ylabel='TT4'>"
      ]
     },
     "execution_count": 22,
     "metadata": {},
     "output_type": "execute_result"
    },
    {
     "data": {
      "image/png": "[encoded data removed]",
      "text/plain": [
       "<Figure size 640x480 with 1 Axes>"
      ]
     },
     "metadata": {},
     "output_type": "display_data"
    }
   ],
   "source": [
    "sns.boxplot(data=df, x='classes', y='TT4')\n"
   ]
  },
  {
   "cell_type": "code",
   "execution_count": 23,
   "metadata": {
    "tags": []
   },
   "outputs": [
    {
     "data": {
      "text/plain": [
       "<Axes: xlabel='classes', ylabel='T4U'>"
      ]
     },
     "execution_count": 23,
     "metadata": {},
     "output_type": "execute_result"
    },
    {
     "data": {
      "image/png": "[encoded data removed]",
      "text/plain": [
       "<Figure size 640x480 with 1 Axes>"
      ]
     },
     "metadata": {},
     "output_type": "display_data"
    }
   ],
   "source": [
    "sns.boxplot(data=df, x='classes', y='T4U')\n"
   ]
  },
  {
   "cell_type": "code",
   "execution_count": 24,
   "metadata": {
    "tags": []
   },
   "outputs": [
    {
     "data": {
      "text/plain": [
       "<Axes: xlabel='classes', ylabel='FTI'>"
      ]
     },
     "execution_count": 24,
     "metadata": {},
     "output_type": "execute_result"
    },
    {
     "data": {
      "image/png": "[encoded data removed]",
      "text/plain": [
       "<Figure size 640x480 with 1 Axes>"
      ]
     },
     "metadata": {},
     "output_type": "display_data"
    }
   ],
   "source": [
    "sns.boxplot(data=df, x='classes', y='FTI')"
   ]
  },
  {
   "cell_type": "code",
   "execution_count": null,
   "metadata": {},
   "outputs": [],
   "source": []
  },
  {
   "cell_type": "code",
   "execution_count": 25,
   "metadata": {
    "tags": []
   },
   "outputs": [
    {
     "data": {
      "text/html": [
       "<div>\n",
       "<style scoped>\n",
       "    .dataframe tbody tr th:only-of-type {\n",
       "        vertical-align: middle;\n",
       "    }\n",
       "\n",
       "    .dataframe tbody tr th {\n",
       "        vertical-align: top;\n",
       "    }\n",
       "\n",
       "    .dataframe thead th {\n",
       "        text-align: right;\n",
       "    }\n",
       "</style>\n",
       "<table border=\"1\" class=\"dataframe\">\n",
       "  <thead>\n",
       "    <tr style=\"text-align: right;\">\n",
       "      <th></th>\n",
       "      <th>T3_measured</th>\n",
       "      <th>T3</th>\n",
       "      <th>T4U_measured</th>\n",
       "      <th>T4U</th>\n",
       "    </tr>\n",
       "  </thead>\n",
       "  <tbody>\n",
       "    <tr>\n",
       "      <th>0</th>\n",
       "      <td>t</td>\n",
       "      <td>2.5</td>\n",
       "      <td>t</td>\n",
       "      <td>1.14</td>\n",
       "    </tr>\n",
       "    <tr>\n",
       "      <th>1</th>\n",
       "      <td>t</td>\n",
       "      <td>2.0</td>\n",
       "      <td>f</td>\n",
       "      <td>NaN</td>\n",
       "    </tr>\n",
       "    <tr>\n",
       "      <th>2</th>\n",
       "      <td>f</td>\n",
       "      <td>NaN</td>\n",
       "      <td>t</td>\n",
       "      <td>0.91</td>\n",
       "    </tr>\n",
       "    <tr>\n",
       "      <th>3</th>\n",
       "      <td>t</td>\n",
       "      <td>1.9</td>\n",
       "      <td>f</td>\n",
       "      <td>NaN</td>\n",
       "    </tr>\n",
       "    <tr>\n",
       "      <th>4</th>\n",
       "      <td>t</td>\n",
       "      <td>1.2</td>\n",
       "      <td>t</td>\n",
       "      <td>0.87</td>\n",
       "    </tr>\n",
       "    <tr>\n",
       "      <th>...</th>\n",
       "      <td>...</td>\n",
       "      <td>...</td>\n",
       "      <td>...</td>\n",
       "      <td>...</td>\n",
       "    </tr>\n",
       "    <tr>\n",
       "      <th>2795</th>\n",
       "      <td>f</td>\n",
       "      <td>NaN</td>\n",
       "      <td>t</td>\n",
       "      <td>1.05</td>\n",
       "    </tr>\n",
       "    <tr>\n",
       "      <th>2796</th>\n",
       "      <td>t</td>\n",
       "      <td>0.7</td>\n",
       "      <td>t</td>\n",
       "      <td>0.88</td>\n",
       "    </tr>\n",
       "    <tr>\n",
       "      <th>2797</th>\n",
       "      <td>f</td>\n",
       "      <td>NaN</td>\n",
       "      <td>t</td>\n",
       "      <td>0.80</td>\n",
       "    </tr>\n",
       "    <tr>\n",
       "      <th>2798</th>\n",
       "      <td>f</td>\n",
       "      <td>NaN</td>\n",
       "      <td>t</td>\n",
       "      <td>0.83</td>\n",
       "    </tr>\n",
       "    <tr>\n",
       "      <th>2799</th>\n",
       "      <td>t</td>\n",
       "      <td>1.5</td>\n",
       "      <td>t</td>\n",
       "      <td>0.99</td>\n",
       "    </tr>\n",
       "  </tbody>\n",
       "</table>\n",
       "<p>2800 rows × 4 columns</p>\n",
       "</div>"
      ],
      "text/plain": [
       "     T3_measured   T3 T4U_measured   T4U\n",
       "0              t  2.5            t  1.14\n",
       "1              t  2.0            f   NaN\n",
       "2              f  NaN            t  0.91\n",
       "3              t  1.9            f   NaN\n",
       "4              t  1.2            t  0.87\n",
       "...          ...  ...          ...   ...\n",
       "2795           f  NaN            t  1.05\n",
       "2796           t  0.7            t  0.88\n",
       "2797           f  NaN            t  0.80\n",
       "2798           f  NaN            t  0.83\n",
       "2799           t  1.5            t  0.99\n",
       "\n",
       "[2800 rows x 4 columns]"
      ]
     },
     "execution_count": 25,
     "metadata": {},
     "output_type": "execute_result"
    }
   ],
   "source": [
    "#T4U_measured just showed that T4U has a value or not\n",
    "df[['T3_measured','T3','T4U_measured','T4U']]"
   ]
  },
  {
   "cell_type": "code",
   "execution_count": 28,
   "metadata": {
    "tags": []
   },
   "outputs": [],
   "source": [
    "# The measured columns contain value t. or f.\n",
    "\n",
    "df = df.drop(['Unnamed: 0', 'TSH_measured','T3_measured','TT4_measured','T4U_measured','FTI_measured', 'TBG_measured', 'TBG'],axis =1)\n"
   ]
  },
  {
   "cell_type": "code",
   "execution_count": 29,
   "metadata": {
    "tags": []
   },
   "outputs": [
    {
     "name": "stdout",
     "output_type": "stream",
     "text": [
      "age [ 41.  23.  46.  70.  18.  59.  80.  66.  68.  84.  67.  71.  28.  65.\n",
      "  42.  63.  51.  81.  54.  55.  60.  25.  73.  34.  78.  37.  85.  26.\n",
      "  58.  64.  44.  48.  61.  35.  83.  21.  87.  53.  77.  27.  69.  74.\n",
      "  38.  76.  45.  36.  22.  43.  72.  82.  31.  39.  49.  62.  57.   1.\n",
      "  50.  30.  29.  75.  19.   7.  79.  17.  24.  15.  32.  47.  16.  52.\n",
      "  33.  13.  10.  89.  56.  20.  90.  40.  88.  14.  86.  94.  12.   4.\n",
      "  11.   8.   5. 455.   2.  91.   6.  nan  93.  92.]\n",
      "sex ['F' 'M' nan]\n",
      "on_thyroxine ['f' 't']\n",
      "query_on_thyroxine ['f' 't']\n",
      "on_antithyroid_medication ['f' 't']\n",
      "sick ['f' 't']\n",
      "pregnant ['f' 't']\n",
      "thyroid_surgery ['f' 't']\n",
      "I131_treatment ['f' 't']\n",
      "query_hypothyroid ['f' 't']\n",
      "query_hyperthyroid ['f' 't']\n",
      "lithium ['f' 't']\n",
      "goitre ['f' 't']\n",
      "tumor ['f' 't']\n",
      "hypopituitary ['f' 't']\n",
      "psych ['f' 't']\n",
      "TSH [1.30e+00 4.10e+00 9.80e-01 1.60e-01 7.20e-01 3.00e-02      nan 2.20e+00\n",
      " 6.00e-01 2.40e+00 1.10e+00 2.80e+00 3.30e+00 1.20e+01 1.20e+00 1.50e+00\n",
      " 6.00e+00 2.10e+00 1.00e-01 8.00e-01 1.90e+00 3.10e+00 2.00e-01 1.30e+01\n",
      " 3.00e-01 3.50e-02 2.50e+00 5.00e-01 1.70e+00 7.30e+00 1.80e+00 2.60e-01\n",
      " 4.50e+01 5.40e+00 9.90e-01 2.50e-01 9.20e-01 1.50e-01 6.40e-01 1.00e+00\n",
      " 4.00e-01 2.00e+00 2.60e+00 1.48e+01 1.50e+01 1.90e+01 2.00e-02 3.00e+00\n",
      " 2.90e+00 3.20e+00 9.00e+00 1.60e+00 4.30e+00 5.00e-03 3.10e-01 6.10e-01\n",
      " 5.00e-02 7.80e+00 1.60e+02 2.50e-02 1.40e+00 1.00e-02 8.80e+00 1.51e+02\n",
      " 4.00e-02 3.90e+00 9.40e+00 2.70e+00 2.30e+00 9.40e-01 4.50e-02 3.50e+00\n",
      " 8.80e-01 8.00e-02 4.50e+00 6.80e-01 7.00e-01 6.70e-01 2.70e+01 6.10e+00\n",
      " 7.50e-01 5.50e-01 2.60e+01 5.20e+00 7.70e-01 7.00e-02 9.00e-01 1.14e+01\n",
      " 1.43e+02 4.50e-01 5.70e-01 6.50e-01 1.50e-02 1.60e+01 1.08e+02 8.30e-01\n",
      " 9.20e+00 8.60e+01 6.20e-01 5.90e-01 9.10e+00 5.90e+00 5.20e+01 3.30e-01\n",
      " 3.10e+01 5.80e+00 2.80e-01 5.10e+01 6.30e+00 4.40e+00 9.60e+00 3.40e+00\n",
      " 9.00e-02 2.40e+01 7.60e-01 4.20e+01 2.50e+01 1.00e+01 4.60e+00 8.60e+00\n",
      " 6.60e-01 6.20e+00 7.90e-01 2.80e+01 8.60e-01 9.70e+00 8.40e-01 1.70e+01\n",
      " 1.80e+01 5.50e+01 1.40e+01 3.70e+00 8.70e-01 6.70e+00 7.40e-01 7.60e+00\n",
      " 6.50e-02 2.90e-01 3.70e-01 8.00e+00 1.10e+01 4.80e-01 4.40e+01 7.90e+00\n",
      " 5.00e+00 7.20e+00 8.90e-01 9.30e-01 9.70e-01 1.20e-01 6.40e+00 3.30e+01\n",
      " 8.50e-01 7.10e+00 7.30e-01 1.99e+02 8.20e+00 1.88e+02 2.20e-01 9.80e+01\n",
      " 2.20e+01 6.60e+00 5.10e+00 6.00e-02 4.20e-01 3.80e+00 3.50e+01 4.00e+00\n",
      " 7.80e-01 6.30e-01 5.20e-01 6.00e+01 4.30e-01 5.60e+00 6.90e+00 3.60e+00\n",
      " 2.90e+01 3.80e-01 4.90e+00 4.10e-01 9.90e+00 7.50e+00 3.40e+01 6.50e+00\n",
      " 4.70e+00 1.03e+02 9.50e-01 1.40e-01 3.50e-01 4.20e+00 8.10e-01 5.40e-01\n",
      " 5.80e-01 8.90e+00 5.50e+00 3.40e-01 9.30e+00 1.30e-01 5.40e+01 3.90e-01\n",
      " 8.30e+00 4.78e+02 2.10e+01 6.80e+00 3.20e-01 2.30e-01 2.40e-01 8.10e+00\n",
      " 9.10e-01 5.30e+00 1.00e+02 2.70e-01 1.01e+00 5.80e+01 4.10e+01 1.83e+02\n",
      " 1.84e+01 4.70e-01 1.70e-01 1.21e+01 1.90e-01 8.20e-01 4.30e+01 4.40e-01\n",
      " 7.00e+01 7.70e+00 8.40e+00 6.90e-01 8.50e+00 2.10e-01 8.20e+01 5.50e-02\n",
      " 9.60e-01 7.10e-01 3.80e+01 3.60e-01 9.80e+00 7.00e+00 4.60e-01 1.11e+01\n",
      " 3.90e+01 7.60e+01 5.70e+00 3.20e+01 1.26e+02 2.64e+01 5.30e-01 4.90e-01\n",
      " 3.60e+01 1.78e+02 1.45e+02 4.70e+01 4.80e+00 1.03e+01 8.90e+01 7.40e+00\n",
      " 4.72e+02 5.10e-01 1.16e+02 6.10e+01 9.90e+01 4.60e+01 7.80e+01 4.68e+02]\n",
      "T3 [ 2.5   2.     nan  1.9   1.2   0.6   2.2   1.6   3.8   1.7   1.8   2.6\n",
      "  2.1   0.3   5.5   1.4   3.1   1.5   2.3   2.4   2.7   0.9   1.    2.8\n",
      "  2.9   0.8   1.3   0.4   3.3   3.5   3.4   1.1   4.2   3.7   3.    0.7\n",
      "  4.8   4.3   0.05  3.2   5.4   4.    0.5   0.2   3.6   5.2   5.    6.\n",
      "  5.3   3.9   4.6   4.5   7.3   4.7   6.7   4.1   6.1   0.1   4.9  10.6\n",
      "  5.1   7.    6.2   4.4   7.1 ]\n",
      "TT4 [125.  102.  109.  175.   61.  183.   72.   80.  123.   83.  115.  152.\n",
      " 171.   97.   99.   70.  117.  121.  130.  108.  104.  134.  199.   57.\n",
      " 129.  113.  119.   84.   81.   95.   66.  101.  147.  120.   69.    nan\n",
      "  39.   87.   63.  133.   86.  163.  162.  103.   96.  151.  112.   82.\n",
      " 138.   71.   77.   93.  107.  237.  110.   67.   88.  160.  118.  136.\n",
      " 114.  116.   94.  161.   11.   32.  124.  137.   92.  135.  105.  150.\n",
      " 126.  146.   91.  217.  141.  159.  122.  100.  111.  140.  205.  225.\n",
      "  85.   90.   74.  219.  127.  132.  128.  106.  144.  131.   56.   79.\n",
      " 142.   98.  177.  139.   78.  189.  180.   73.  145.  184.   38.  156.\n",
      "  75.  148.   14.   76.   54.   58.   27.   65.  193.   13.  143.   12.\n",
      "  64.  257.  164.   59.  167.   18.   41.  176.   37.   33.   44.   45.\n",
      " 154.  174.  203.  244.   62.  158.   60.  187.  250.  181.  157.  223.\n",
      " 272.  166.  213.  235.   10.   68.  231.  191.   48.    5.8 169.  149.\n",
      " 210.   40.  155.  232.   42.  204.  430.  198.  230.   15.  170.  165.\n",
      "  47.  168.  194.   89.   52.  179.  192.  172.    4.8  50.  182.  197.\n",
      " 214.  246.  196.  207.   19.  153.   22.   46.  200.   35.  226.  201.\n",
      " 233.  206.   31.  255.  178.  239.  195.    6.   36.    2.    3.  289.\n",
      " 240.  209.   43.   34.  252.   29.  263.  301.   23.  188.  211.  253.\n",
      "  21.  173. ]\n",
      "T4U [1.14    nan 0.91  0.87  1.3   0.92  0.7   0.93  0.89  0.95  0.99  1.13\n",
      " 0.86  0.96  0.94  0.9   1.02  1.05  0.62  1.06  1.55  0.83  1.09  1.07\n",
      " 1.27  0.76  1.16  1.    0.56  0.81  0.68  0.78  0.85  1.35  1.15  0.82\n",
      " 1.03  1.58  0.79  1.17  0.71  0.72  0.88  1.11  1.2   1.1   1.33  0.77\n",
      " 1.24  0.53  1.44  1.63  1.51  1.42  1.23  1.01  0.98  0.61  1.12  1.43\n",
      " 1.25  1.41  1.68  0.97  0.84  0.8   1.04  0.73  1.08  1.26  1.46  1.29\n",
      " 1.34  1.66  1.21  1.19  0.75  0.52  1.83  1.39  1.5   1.93  1.18  0.74\n",
      " 0.58  1.82  0.6   1.67  1.22  0.66  0.67  1.31  0.54  1.77  1.59  1.97\n",
      " 1.69  1.38  1.28  1.4   0.69  0.65  1.74  2.03  1.73  1.65  1.36  1.52\n",
      " 0.57  1.53  1.84  1.57  1.75  1.32  1.37  0.64  1.79  1.8   0.48  1.71\n",
      " 1.62  1.76  1.56  1.48  0.59  0.31  1.94  2.12  1.47  0.63  0.944 0.49\n",
      " 1.88  0.5   0.38  1.49  0.41  1.61  1.7  ]\n",
      "FTI [109.    nan 120.   70.  141.   78.  115.  132.   93.  121.  153.  151.\n",
      " 107.  119.   87.   81.  104.  130.  106.  116.  131.  190.   92.  102.\n",
      "  76.   98.   90.   61.   94.  129.   95.   91.   33.  113.  148.  140.\n",
      " 171.  155.  186.  122.  136.  110.  111.   97.   72.  100.   88.   67.\n",
      "  84.  103.  135.  203.  112.  117.  180.  142.  145.  156.   96.  134.\n",
      "   8.9  60.  139.   41.   99.   89.  146.  124.  105.   85.  157.  143.\n",
      "  71.  221.   28.  108.  137.   83.   74.  170.   65.  101.  127.  274.\n",
      " 154.  114.   62.   86.  126.  125.   64.  172.  162.   79.  118.   73.\n",
      " 152.  163.  149.   14.   51.  165.   77.   32.   69.   80.   11.   54.\n",
      " 164.  123.  144.   10.  214.  200.  160.   53.   16.  138.  169.   56.\n",
      "  47.  133.   43.   68.  179.  224.  220.   82.  362.  182.   75.   66.\n",
      " 161.   57.   58.  312.   63.  128.  147.  158.  281.  207.  216.  251.\n",
      " 194.   46.    7.   42.  174.  395.  185.   13.  201.   48.  173.  167.\n",
      " 188.  150.  235.  175.  159.    5.4 189.   59.  166.   34.  228.  232.\n",
      " 217.  177.  176.  195.  219.   17.  210.  168.  205.   39.  187.   50.\n",
      " 349.   52.  206.  253.  242.  244.  213.  178.  247.  215.  198.   19.\n",
      " 237.   37.    7.6  24.    2.    3.  191.  223.    9.   29.  222.  204.\n",
      "  26.  218.  197.   49.  209.  183. ]\n",
      "referral_source ['SVHC' 'other' 'SVI' 'STMW' 'SVHD']\n",
      "classes ['negative' 'compensated hypothyroid' 'primary hypothyroid'\n",
      " 'secondary hypothyroid']\n"
     ]
    }
   ],
   "source": [
    "for column in df.columns:\n",
    "     print(column, (df[column].unique()))"
   ]
  },
  {
   "cell_type": "code",
   "execution_count": 27,
   "metadata": {
    "tags": []
   },
   "outputs": [
    {
     "data": {
      "text/plain": [
       "Index(['Unnamed: 0', 'age', 'sex', 'on_thyroxine', 'query_on_thyroxine',\n",
       "       'on_antithyroid_medication', 'sick', 'pregnant', 'thyroid_surgery',\n",
       "       'I131_treatment', 'query_hypothyroid', 'query_hyperthyroid', 'lithium',\n",
       "       'goitre', 'tumor', 'hypopituitary', 'psych', 'TSH_measured', 'TSH',\n",
       "       'T3_measured', 'T3', 'TT4_measured', 'TT4', 'T4U_measured', 'T4U',\n",
       "       'FTI_measured', 'FTI', 'TBG_measured', 'TBG', 'referral_source',\n",
       "       'classes'],\n",
       "      dtype='object')"
      ]
     },
     "execution_count": 27,
     "metadata": {},
     "output_type": "execute_result"
    }
   ],
   "source": [
    "df.columns"
   ]
  },
  {
   "cell_type": "markdown",
   "metadata": {},
   "source": [
    "## Handling Missing VAlues"
   ]
  },
  {
   "cell_type": "code",
   "execution_count": 31,
   "metadata": {
    "tags": []
   },
   "outputs": [],
   "source": [
    "df['age'].fillna((df['age'].median()), inplace = True)\n",
    "df['TSH'].fillna((df['TSH'].median()), inplace = True)\n",
    "df['T3'].fillna((df['T3'].median()), inplace = True)\n",
    "df['TT4'].fillna((df['TT4'].median()), inplace = True)\n",
    "df['T4U'].fillna((df['T4U'].median()), inplace = True)\n",
    "df['FTI'].fillna((df['FTI'].median()), inplace = True)\n",
    "df['sex'].fillna(method='ffill',inplace=True)"
   ]
  },
  {
   "cell_type": "markdown",
   "metadata": {},
   "source": [
    "## nomial categorical variables"
   ]
  },
  {
   "cell_type": "code",
   "execution_count": 32,
   "metadata": {
    "tags": []
   },
   "outputs": [
    {
     "name": "stdout",
     "output_type": "stream",
     "text": [
      "sex:['F' 'M']\n",
      "on_thyroxine:['f' 't']\n",
      "query_on_thyroxine:['f' 't']\n",
      "on_antithyroid_medication:['f' 't']\n",
      "sick:['f' 't']\n",
      "pregnant:['f' 't']\n",
      "thyroid_surgery:['f' 't']\n",
      "I131_treatment:['f' 't']\n",
      "query_hypothyroid:['f' 't']\n",
      "query_hyperthyroid:['f' 't']\n",
      "lithium:['f' 't']\n",
      "goitre:['f' 't']\n",
      "tumor:['f' 't']\n",
      "hypopituitary:['f' 't']\n",
      "psych:['f' 't']\n",
      "referral_source:['SVHC' 'other' 'SVI' 'STMW' 'SVHD']\n",
      "classes:['negative' 'compensated hypothyroid' 'primary hypothyroid'\n",
      " 'secondary hypothyroid']\n"
     ]
    }
   ],
   "source": [
    "categorical_features=df.select_dtypes(exclude='number')\n",
    "for feature in categorical_features:\n",
    "    print(f\"{feature}:{categorical_features[feature].unique()}\")"
   ]
  },
  {
   "cell_type": "code",
   "execution_count": 87,
   "metadata": {
    "tags": []
   },
   "outputs": [
    {
     "data": {
      "text/html": [
       "<div>\n",
       "<style scoped>\n",
       "    .dataframe tbody tr th:only-of-type {\n",
       "        vertical-align: middle;\n",
       "    }\n",
       "\n",
       "    .dataframe tbody tr th {\n",
       "        vertical-align: top;\n",
       "    }\n",
       "\n",
       "    .dataframe thead th {\n",
       "        text-align: right;\n",
       "    }\n",
       "</style>\n",
       "<table border=\"1\" class=\"dataframe\">\n",
       "  <thead>\n",
       "    <tr style=\"text-align: right;\">\n",
       "      <th></th>\n",
       "      <th>age</th>\n",
       "      <th>sex</th>\n",
       "      <th>on_thyroxine</th>\n",
       "      <th>query_on_thyroxine</th>\n",
       "      <th>on_antithyroid_medication</th>\n",
       "      <th>sick</th>\n",
       "      <th>pregnant</th>\n",
       "      <th>thyroid_surgery</th>\n",
       "      <th>i131_treatment</th>\n",
       "      <th>query_hypothyroid</th>\n",
       "      <th>...</th>\n",
       "      <th>tumor</th>\n",
       "      <th>hypopituitary</th>\n",
       "      <th>psych</th>\n",
       "      <th>tsh</th>\n",
       "      <th>t3</th>\n",
       "      <th>tt4</th>\n",
       "      <th>t4u</th>\n",
       "      <th>fti</th>\n",
       "      <th>referral_source</th>\n",
       "      <th>classes</th>\n",
       "    </tr>\n",
       "  </thead>\n",
       "  <tbody>\n",
       "    <tr>\n",
       "      <th>0</th>\n",
       "      <td>41.0</td>\n",
       "      <td>F</td>\n",
       "      <td>f</td>\n",
       "      <td>f</td>\n",
       "      <td>f</td>\n",
       "      <td>f</td>\n",
       "      <td>f</td>\n",
       "      <td>f</td>\n",
       "      <td>f</td>\n",
       "      <td>f</td>\n",
       "      <td>...</td>\n",
       "      <td>f</td>\n",
       "      <td>f</td>\n",
       "      <td>f</td>\n",
       "      <td>1.30</td>\n",
       "      <td>2.5</td>\n",
       "      <td>125.0</td>\n",
       "      <td>1.14</td>\n",
       "      <td>109.0</td>\n",
       "      <td>SVHC</td>\n",
       "      <td>negative</td>\n",
       "    </tr>\n",
       "    <tr>\n",
       "      <th>1</th>\n",
       "      <td>23.0</td>\n",
       "      <td>F</td>\n",
       "      <td>f</td>\n",
       "      <td>f</td>\n",
       "      <td>f</td>\n",
       "      <td>f</td>\n",
       "      <td>f</td>\n",
       "      <td>f</td>\n",
       "      <td>f</td>\n",
       "      <td>f</td>\n",
       "      <td>...</td>\n",
       "      <td>f</td>\n",
       "      <td>f</td>\n",
       "      <td>f</td>\n",
       "      <td>4.10</td>\n",
       "      <td>2.0</td>\n",
       "      <td>102.0</td>\n",
       "      <td>0.98</td>\n",
       "      <td>107.0</td>\n",
       "      <td>other</td>\n",
       "      <td>negative</td>\n",
       "    </tr>\n",
       "    <tr>\n",
       "      <th>2</th>\n",
       "      <td>46.0</td>\n",
       "      <td>M</td>\n",
       "      <td>f</td>\n",
       "      <td>f</td>\n",
       "      <td>f</td>\n",
       "      <td>f</td>\n",
       "      <td>f</td>\n",
       "      <td>f</td>\n",
       "      <td>f</td>\n",
       "      <td>f</td>\n",
       "      <td>...</td>\n",
       "      <td>f</td>\n",
       "      <td>f</td>\n",
       "      <td>f</td>\n",
       "      <td>0.98</td>\n",
       "      <td>2.0</td>\n",
       "      <td>109.0</td>\n",
       "      <td>0.91</td>\n",
       "      <td>120.0</td>\n",
       "      <td>other</td>\n",
       "      <td>negative</td>\n",
       "    </tr>\n",
       "    <tr>\n",
       "      <th>3</th>\n",
       "      <td>70.0</td>\n",
       "      <td>F</td>\n",
       "      <td>t</td>\n",
       "      <td>f</td>\n",
       "      <td>f</td>\n",
       "      <td>f</td>\n",
       "      <td>f</td>\n",
       "      <td>f</td>\n",
       "      <td>f</td>\n",
       "      <td>f</td>\n",
       "      <td>...</td>\n",
       "      <td>f</td>\n",
       "      <td>f</td>\n",
       "      <td>f</td>\n",
       "      <td>0.16</td>\n",
       "      <td>1.9</td>\n",
       "      <td>175.0</td>\n",
       "      <td>0.98</td>\n",
       "      <td>107.0</td>\n",
       "      <td>other</td>\n",
       "      <td>negative</td>\n",
       "    </tr>\n",
       "    <tr>\n",
       "      <th>4</th>\n",
       "      <td>70.0</td>\n",
       "      <td>F</td>\n",
       "      <td>f</td>\n",
       "      <td>f</td>\n",
       "      <td>f</td>\n",
       "      <td>f</td>\n",
       "      <td>f</td>\n",
       "      <td>f</td>\n",
       "      <td>f</td>\n",
       "      <td>f</td>\n",
       "      <td>...</td>\n",
       "      <td>f</td>\n",
       "      <td>f</td>\n",
       "      <td>f</td>\n",
       "      <td>0.72</td>\n",
       "      <td>1.2</td>\n",
       "      <td>61.0</td>\n",
       "      <td>0.87</td>\n",
       "      <td>70.0</td>\n",
       "      <td>SVI</td>\n",
       "      <td>negative</td>\n",
       "    </tr>\n",
       "  </tbody>\n",
       "</table>\n",
       "<p>5 rows × 23 columns</p>\n",
       "</div>"
      ],
      "text/plain": [
       "    age sex on_thyroxine query_on_thyroxine on_antithyroid_medication sick  \\\n",
       "0  41.0   F            f                  f                         f    f   \n",
       "1  23.0   F            f                  f                         f    f   \n",
       "2  46.0   M            f                  f                         f    f   \n",
       "3  70.0   F            t                  f                         f    f   \n",
       "4  70.0   F            f                  f                         f    f   \n",
       "\n",
       "  pregnant thyroid_surgery i131_treatment query_hypothyroid  ... tumor  \\\n",
       "0        f               f              f                 f  ...     f   \n",
       "1        f               f              f                 f  ...     f   \n",
       "2        f               f              f                 f  ...     f   \n",
       "3        f               f              f                 f  ...     f   \n",
       "4        f               f              f                 f  ...     f   \n",
       "\n",
       "  hypopituitary psych   tsh   t3    tt4   t4u    fti  referral_source  \\\n",
       "0             f     f  1.30  2.5  125.0  1.14  109.0             SVHC   \n",
       "1             f     f  4.10  2.0  102.0  0.98  107.0            other   \n",
       "2             f     f  0.98  2.0  109.0  0.91  120.0            other   \n",
       "3             f     f  0.16  1.9  175.0  0.98  107.0            other   \n",
       "4             f     f  0.72  1.2   61.0  0.87   70.0              SVI   \n",
       "\n",
       "    classes  \n",
       "0  negative  \n",
       "1  negative  \n",
       "2  negative  \n",
       "3  negative  \n",
       "4  negative  \n",
       "\n",
       "[5 rows x 23 columns]"
      ]
     },
     "execution_count": 87,
     "metadata": {},
     "output_type": "execute_result"
    }
   ],
   "source": [
    "df.head()"
   ]
  },
  {
   "cell_type": "code",
   "execution_count": 33,
   "metadata": {
    "tags": []
   },
   "outputs": [],
   "source": [
    "df.to_csv(\"df_clean.csv\")"
   ]
  },
  {
   "cell_type": "markdown",
   "metadata": {
    "tags": []
   },
   "source": [
    "## Nornmalize values fo categorical"
   ]
  },
  {
   "cell_type": "code",
   "execution_count": 35,
   "metadata": {
    "tags": []
   },
   "outputs": [],
   "source": [
    "cat=df[['sex', 'on_thyroxine', 'query_on_thyroxine','on_antithyroid_medication', 'sick', 'pregnant', 'thyroid_surgery','I131_treatment', 'query_hypothyroid', 'query_hyperthyroid', 'lithium','goitre', 'tumor', 'hypopituitary', 'psych','referral_source']]"
   ]
  },
  {
   "cell_type": "code",
   "execution_count": 36,
   "metadata": {
    "tags": []
   },
   "outputs": [
    {
     "data": {
      "text/plain": [
       "classes\n",
       "negative                   2580\n",
       "compensated hypothyroid     154\n",
       "primary hypothyroid          64\n",
       "secondary hypothyroid         2\n",
       "Name: count, dtype: int64"
      ]
     },
     "execution_count": 36,
     "metadata": {},
     "output_type": "execute_result"
    }
   ],
   "source": [
    "df.classes.value_counts()"
   ]
  },
  {
   "cell_type": "code",
   "execution_count": 37,
   "metadata": {
    "tags": []
   },
   "outputs": [],
   "source": [
    "#using label encoder to normalize values\n",
    "le = LabelEncoder()\n",
    "#cols = df.select_dtypes(include=['object'])\n",
    "for i in cat:\n",
    "    try:\n",
    "        df[i] = le.fit_transform(df[i])\n",
    "    except:\n",
    "        continue"
   ]
  },
  {
   "cell_type": "code",
   "execution_count": 38,
   "metadata": {
    "tags": []
   },
   "outputs": [
    {
     "data": {
      "text/html": [
       "<div>\n",
       "<style scoped>\n",
       "    .dataframe tbody tr th:only-of-type {\n",
       "        vertical-align: middle;\n",
       "    }\n",
       "\n",
       "    .dataframe tbody tr th {\n",
       "        vertical-align: top;\n",
       "    }\n",
       "\n",
       "    .dataframe thead th {\n",
       "        text-align: right;\n",
       "    }\n",
       "</style>\n",
       "<table border=\"1\" class=\"dataframe\">\n",
       "  <thead>\n",
       "    <tr style=\"text-align: right;\">\n",
       "      <th></th>\n",
       "      <th>age</th>\n",
       "      <th>sex</th>\n",
       "      <th>on_thyroxine</th>\n",
       "      <th>query_on_thyroxine</th>\n",
       "      <th>on_antithyroid_medication</th>\n",
       "      <th>sick</th>\n",
       "      <th>pregnant</th>\n",
       "      <th>thyroid_surgery</th>\n",
       "      <th>I131_treatment</th>\n",
       "      <th>query_hypothyroid</th>\n",
       "      <th>...</th>\n",
       "      <th>tumor</th>\n",
       "      <th>hypopituitary</th>\n",
       "      <th>psych</th>\n",
       "      <th>TSH</th>\n",
       "      <th>T3</th>\n",
       "      <th>TT4</th>\n",
       "      <th>T4U</th>\n",
       "      <th>FTI</th>\n",
       "      <th>referral_source</th>\n",
       "      <th>classes</th>\n",
       "    </tr>\n",
       "  </thead>\n",
       "  <tbody>\n",
       "    <tr>\n",
       "      <th>0</th>\n",
       "      <td>41.0</td>\n",
       "      <td>0</td>\n",
       "      <td>0</td>\n",
       "      <td>0</td>\n",
       "      <td>0</td>\n",
       "      <td>0</td>\n",
       "      <td>0</td>\n",
       "      <td>0</td>\n",
       "      <td>0</td>\n",
       "      <td>0</td>\n",
       "      <td>...</td>\n",
       "      <td>0</td>\n",
       "      <td>0</td>\n",
       "      <td>0</td>\n",
       "      <td>1.30</td>\n",
       "      <td>2.5</td>\n",
       "      <td>125.0</td>\n",
       "      <td>1.14</td>\n",
       "      <td>109.0</td>\n",
       "      <td>1</td>\n",
       "      <td>negative</td>\n",
       "    </tr>\n",
       "    <tr>\n",
       "      <th>1</th>\n",
       "      <td>23.0</td>\n",
       "      <td>0</td>\n",
       "      <td>0</td>\n",
       "      <td>0</td>\n",
       "      <td>0</td>\n",
       "      <td>0</td>\n",
       "      <td>0</td>\n",
       "      <td>0</td>\n",
       "      <td>0</td>\n",
       "      <td>0</td>\n",
       "      <td>...</td>\n",
       "      <td>0</td>\n",
       "      <td>0</td>\n",
       "      <td>0</td>\n",
       "      <td>4.10</td>\n",
       "      <td>2.0</td>\n",
       "      <td>102.0</td>\n",
       "      <td>0.98</td>\n",
       "      <td>107.0</td>\n",
       "      <td>4</td>\n",
       "      <td>negative</td>\n",
       "    </tr>\n",
       "    <tr>\n",
       "      <th>2</th>\n",
       "      <td>46.0</td>\n",
       "      <td>1</td>\n",
       "      <td>0</td>\n",
       "      <td>0</td>\n",
       "      <td>0</td>\n",
       "      <td>0</td>\n",
       "      <td>0</td>\n",
       "      <td>0</td>\n",
       "      <td>0</td>\n",
       "      <td>0</td>\n",
       "      <td>...</td>\n",
       "      <td>0</td>\n",
       "      <td>0</td>\n",
       "      <td>0</td>\n",
       "      <td>0.98</td>\n",
       "      <td>2.0</td>\n",
       "      <td>109.0</td>\n",
       "      <td>0.91</td>\n",
       "      <td>120.0</td>\n",
       "      <td>4</td>\n",
       "      <td>negative</td>\n",
       "    </tr>\n",
       "    <tr>\n",
       "      <th>3</th>\n",
       "      <td>70.0</td>\n",
       "      <td>0</td>\n",
       "      <td>1</td>\n",
       "      <td>0</td>\n",
       "      <td>0</td>\n",
       "      <td>0</td>\n",
       "      <td>0</td>\n",
       "      <td>0</td>\n",
       "      <td>0</td>\n",
       "      <td>0</td>\n",
       "      <td>...</td>\n",
       "      <td>0</td>\n",
       "      <td>0</td>\n",
       "      <td>0</td>\n",
       "      <td>0.16</td>\n",
       "      <td>1.9</td>\n",
       "      <td>175.0</td>\n",
       "      <td>0.98</td>\n",
       "      <td>107.0</td>\n",
       "      <td>4</td>\n",
       "      <td>negative</td>\n",
       "    </tr>\n",
       "    <tr>\n",
       "      <th>4</th>\n",
       "      <td>70.0</td>\n",
       "      <td>0</td>\n",
       "      <td>0</td>\n",
       "      <td>0</td>\n",
       "      <td>0</td>\n",
       "      <td>0</td>\n",
       "      <td>0</td>\n",
       "      <td>0</td>\n",
       "      <td>0</td>\n",
       "      <td>0</td>\n",
       "      <td>...</td>\n",
       "      <td>0</td>\n",
       "      <td>0</td>\n",
       "      <td>0</td>\n",
       "      <td>0.72</td>\n",
       "      <td>1.2</td>\n",
       "      <td>61.0</td>\n",
       "      <td>0.87</td>\n",
       "      <td>70.0</td>\n",
       "      <td>3</td>\n",
       "      <td>negative</td>\n",
       "    </tr>\n",
       "  </tbody>\n",
       "</table>\n",
       "<p>5 rows × 23 columns</p>\n",
       "</div>"
      ],
      "text/plain": [
       "    age  sex  on_thyroxine  query_on_thyroxine  on_antithyroid_medication  \\\n",
       "0  41.0    0             0                   0                          0   \n",
       "1  23.0    0             0                   0                          0   \n",
       "2  46.0    1             0                   0                          0   \n",
       "3  70.0    0             1                   0                          0   \n",
       "4  70.0    0             0                   0                          0   \n",
       "\n",
       "   sick  pregnant  thyroid_surgery  I131_treatment  query_hypothyroid  ...  \\\n",
       "0     0         0                0               0                  0  ...   \n",
       "1     0         0                0               0                  0  ...   \n",
       "2     0         0                0               0                  0  ...   \n",
       "3     0         0                0               0                  0  ...   \n",
       "4     0         0                0               0                  0  ...   \n",
       "\n",
       "   tumor  hypopituitary  psych   TSH   T3    TT4   T4U    FTI  \\\n",
       "0      0              0      0  1.30  2.5  125.0  1.14  109.0   \n",
       "1      0              0      0  4.10  2.0  102.0  0.98  107.0   \n",
       "2      0              0      0  0.98  2.0  109.0  0.91  120.0   \n",
       "3      0              0      0  0.16  1.9  175.0  0.98  107.0   \n",
       "4      0              0      0  0.72  1.2   61.0  0.87   70.0   \n",
       "\n",
       "   referral_source   classes  \n",
       "0                1  negative  \n",
       "1                4  negative  \n",
       "2                4  negative  \n",
       "3                4  negative  \n",
       "4                3  negative  \n",
       "\n",
       "[5 rows x 23 columns]"
      ]
     },
     "execution_count": 38,
     "metadata": {},
     "output_type": "execute_result"
    }
   ],
   "source": [
    "df.head()"
   ]
  },
  {
   "cell_type": "code",
   "execution_count": 39,
   "metadata": {
    "tags": []
   },
   "outputs": [
    {
     "data": {
      "text/plain": [
       "(2800,)"
      ]
     },
     "execution_count": 39,
     "metadata": {},
     "output_type": "execute_result"
    }
   ],
   "source": [
    "target = df['classes']\n",
    "target.shape"
   ]
  },
  {
   "cell_type": "code",
   "execution_count": 1,
   "metadata": {
    "tags": []
   },
   "outputs": [
    {
     "ename": "NameError",
     "evalue": "name 'LabelEncoder' is not defined",
     "output_type": "error",
     "traceback": [
      "\u001b[1;31m---------------------------------------------------------------------------\u001b[0m",
      "\u001b[1;31mNameError\u001b[0m                                 Traceback (most recent call last)",
      "Cell \u001b[1;32mIn[1], line 4\u001b[0m\n\u001b[0;32m      1\u001b[0m \u001b[38;5;66;03m# Initialize the label encoder for target\u001b[39;00m\n\u001b[0;32m      3\u001b[0m \u001b[38;5;28;01mimport\u001b[39;00m \u001b[38;5;21;01mjoblib\u001b[39;00m\n\u001b[1;32m----> 4\u001b[0m label_encoder \u001b[38;5;241m=\u001b[39m \u001b[43mLabelEncoder\u001b[49m()\n\u001b[0;32m      6\u001b[0m \u001b[38;5;66;03m# Fit and transform the target variable\u001b[39;00m\n\u001b[0;32m      7\u001b[0m target_encoded \u001b[38;5;241m=\u001b[39m label_encoder\u001b[38;5;241m.\u001b[39mfit_transform(target)\n",
      "\u001b[1;31mNameError\u001b[0m: name 'LabelEncoder' is not defined"
     ]
    }
   ],
   "source": [
    "# Initialize the label encoder for target\n",
    "\n",
    "import joblib\n",
    "label_encoder = LabelEncoder()\n",
    "\n",
    "# Fit and transform the target variable\n",
    "target_encoded = label_encoder.fit_transform(target)\n",
    "\n",
    "# Save the label encoder using joblib\n",
    "\n",
    "joblib.dump(label_encoder, 'label_encoder.joblib')"
   ]
  },
  {
   "cell_type": "code",
   "execution_count": null,
   "metadata": {
    "tags": []
   },
   "outputs": [],
   "source": [
    "print(np.unique(target))\n",
    "print(np.unique(target_encoded))"
   ]
  },
  {
   "cell_type": "code",
   "execution_count": 42,
   "metadata": {
    "tags": []
   },
   "outputs": [
    {
     "data": {
      "text/plain": [
       "classes\n",
       "negative                   2580\n",
       "compensated hypothyroid     154\n",
       "primary hypothyroid          64\n",
       "secondary hypothyroid         2\n",
       "Name: count, dtype: int64"
      ]
     },
     "execution_count": 42,
     "metadata": {},
     "output_type": "execute_result"
    }
   ],
   "source": [
    "target.value_counts()"
   ]
  },
  {
   "cell_type": "code",
   "execution_count": 43,
   "metadata": {
    "tags": []
   },
   "outputs": [
    {
     "data": {
      "text/plain": [
       "array([1, 1, 1, ..., 1, 1, 1])"
      ]
     },
     "execution_count": 43,
     "metadata": {},
     "output_type": "execute_result"
    }
   ],
   "source": [
    "target_encoded"
   ]
  },
  {
   "cell_type": "code",
   "execution_count": null,
   "metadata": {},
   "outputs": [],
   "source": []
  },
  {
   "cell_type": "code",
   "execution_count": 45,
   "metadata": {
    "tags": []
   },
   "outputs": [],
   "source": [
    "#sns.heatmap(df.corr(),annot=True)"
   ]
  },
  {
   "cell_type": "code",
   "execution_count": 46,
   "metadata": {
    "tags": []
   },
   "outputs": [],
   "source": [
    "df.to_csv(\"preprocessed_data.csv\")"
   ]
  },
  {
   "cell_type": "markdown",
   "metadata": {},
   "source": [
    "## Splitting dataset into train set and test set"
   ]
  },
  {
   "cell_type": "code",
   "execution_count": 47,
   "metadata": {
    "tags": []
   },
   "outputs": [
    {
     "data": {
      "text/plain": [
       "0       negative\n",
       "1       negative\n",
       "2       negative\n",
       "3       negative\n",
       "4       negative\n",
       "          ...   \n",
       "2795    negative\n",
       "2796    negative\n",
       "2797    negative\n",
       "2798    negative\n",
       "2799    negative\n",
       "Name: classes, Length: 2800, dtype: object"
      ]
     },
     "execution_count": 47,
     "metadata": {},
     "output_type": "execute_result"
    }
   ],
   "source": [
    "df['classes']"
   ]
  },
  {
   "cell_type": "code",
   "execution_count": 48,
   "metadata": {
    "tags": []
   },
   "outputs": [],
   "source": [
    "X=df.drop(['classes'],axis=1)\n",
    "y=target_encoded"
   ]
  },
  {
   "cell_type": "code",
   "execution_count": 49,
   "metadata": {
    "tags": []
   },
   "outputs": [
    {
     "data": {
      "text/plain": [
       "array([1, 1, 1, ..., 1, 1, 1])"
      ]
     },
     "execution_count": 49,
     "metadata": {},
     "output_type": "execute_result"
    }
   ],
   "source": [
    "y"
   ]
  },
  {
   "cell_type": "code",
   "execution_count": 50,
   "metadata": {
    "tags": []
   },
   "outputs": [
    {
     "data": {
      "text/plain": [
       "array(['negative', 'compensated hypothyroid', 'primary hypothyroid',\n",
       "       'secondary hypothyroid'], dtype=object)"
      ]
     },
     "execution_count": 50,
     "metadata": {},
     "output_type": "execute_result"
    }
   ],
   "source": [
    "target.unique()"
   ]
  },
  {
   "cell_type": "code",
   "execution_count": 51,
   "metadata": {},
   "outputs": [
    {
     "name": "stdout",
     "output_type": "stream",
     "text": [
      "(10320, 22)\n"
     ]
    },
    {
     "data": {
      "text/html": [
       "<div>\n",
       "<style scoped>\n",
       "    .dataframe tbody tr th:only-of-type {\n",
       "        vertical-align: middle;\n",
       "    }\n",
       "\n",
       "    .dataframe tbody tr th {\n",
       "        vertical-align: top;\n",
       "    }\n",
       "\n",
       "    .dataframe thead th {\n",
       "        text-align: right;\n",
       "    }\n",
       "</style>\n",
       "<table border=\"1\" class=\"dataframe\">\n",
       "  <thead>\n",
       "    <tr style=\"text-align: right;\">\n",
       "      <th></th>\n",
       "      <th>age</th>\n",
       "      <th>sex</th>\n",
       "      <th>on_thyroxine</th>\n",
       "      <th>query_on_thyroxine</th>\n",
       "      <th>on_antithyroid_medication</th>\n",
       "      <th>sick</th>\n",
       "      <th>pregnant</th>\n",
       "      <th>thyroid_surgery</th>\n",
       "      <th>I131_treatment</th>\n",
       "      <th>query_hypothyroid</th>\n",
       "      <th>...</th>\n",
       "      <th>goitre</th>\n",
       "      <th>tumor</th>\n",
       "      <th>hypopituitary</th>\n",
       "      <th>psych</th>\n",
       "      <th>TSH</th>\n",
       "      <th>T3</th>\n",
       "      <th>TT4</th>\n",
       "      <th>T4U</th>\n",
       "      <th>FTI</th>\n",
       "      <th>referral_source</th>\n",
       "    </tr>\n",
       "  </thead>\n",
       "  <tbody>\n",
       "    <tr>\n",
       "      <th>0</th>\n",
       "      <td>41.0</td>\n",
       "      <td>0</td>\n",
       "      <td>0</td>\n",
       "      <td>0</td>\n",
       "      <td>0</td>\n",
       "      <td>0</td>\n",
       "      <td>0</td>\n",
       "      <td>0</td>\n",
       "      <td>0</td>\n",
       "      <td>0</td>\n",
       "      <td>...</td>\n",
       "      <td>0</td>\n",
       "      <td>0</td>\n",
       "      <td>0</td>\n",
       "      <td>0</td>\n",
       "      <td>1.30</td>\n",
       "      <td>2.5</td>\n",
       "      <td>125.0</td>\n",
       "      <td>1.14</td>\n",
       "      <td>109.0</td>\n",
       "      <td>1</td>\n",
       "    </tr>\n",
       "    <tr>\n",
       "      <th>1</th>\n",
       "      <td>23.0</td>\n",
       "      <td>0</td>\n",
       "      <td>0</td>\n",
       "      <td>0</td>\n",
       "      <td>0</td>\n",
       "      <td>0</td>\n",
       "      <td>0</td>\n",
       "      <td>0</td>\n",
       "      <td>0</td>\n",
       "      <td>0</td>\n",
       "      <td>...</td>\n",
       "      <td>0</td>\n",
       "      <td>0</td>\n",
       "      <td>0</td>\n",
       "      <td>0</td>\n",
       "      <td>4.10</td>\n",
       "      <td>2.0</td>\n",
       "      <td>102.0</td>\n",
       "      <td>0.98</td>\n",
       "      <td>107.0</td>\n",
       "      <td>4</td>\n",
       "    </tr>\n",
       "    <tr>\n",
       "      <th>2</th>\n",
       "      <td>46.0</td>\n",
       "      <td>1</td>\n",
       "      <td>0</td>\n",
       "      <td>0</td>\n",
       "      <td>0</td>\n",
       "      <td>0</td>\n",
       "      <td>0</td>\n",
       "      <td>0</td>\n",
       "      <td>0</td>\n",
       "      <td>0</td>\n",
       "      <td>...</td>\n",
       "      <td>0</td>\n",
       "      <td>0</td>\n",
       "      <td>0</td>\n",
       "      <td>0</td>\n",
       "      <td>0.98</td>\n",
       "      <td>2.0</td>\n",
       "      <td>109.0</td>\n",
       "      <td>0.91</td>\n",
       "      <td>120.0</td>\n",
       "      <td>4</td>\n",
       "    </tr>\n",
       "    <tr>\n",
       "      <th>3</th>\n",
       "      <td>70.0</td>\n",
       "      <td>0</td>\n",
       "      <td>1</td>\n",
       "      <td>0</td>\n",
       "      <td>0</td>\n",
       "      <td>0</td>\n",
       "      <td>0</td>\n",
       "      <td>0</td>\n",
       "      <td>0</td>\n",
       "      <td>0</td>\n",
       "      <td>...</td>\n",
       "      <td>0</td>\n",
       "      <td>0</td>\n",
       "      <td>0</td>\n",
       "      <td>0</td>\n",
       "      <td>0.16</td>\n",
       "      <td>1.9</td>\n",
       "      <td>175.0</td>\n",
       "      <td>0.98</td>\n",
       "      <td>107.0</td>\n",
       "      <td>4</td>\n",
       "    </tr>\n",
       "    <tr>\n",
       "      <th>4</th>\n",
       "      <td>70.0</td>\n",
       "      <td>0</td>\n",
       "      <td>0</td>\n",
       "      <td>0</td>\n",
       "      <td>0</td>\n",
       "      <td>0</td>\n",
       "      <td>0</td>\n",
       "      <td>0</td>\n",
       "      <td>0</td>\n",
       "      <td>0</td>\n",
       "      <td>...</td>\n",
       "      <td>0</td>\n",
       "      <td>0</td>\n",
       "      <td>0</td>\n",
       "      <td>0</td>\n",
       "      <td>0.72</td>\n",
       "      <td>1.2</td>\n",
       "      <td>61.0</td>\n",
       "      <td>0.87</td>\n",
       "      <td>70.0</td>\n",
       "      <td>3</td>\n",
       "    </tr>\n",
       "  </tbody>\n",
       "</table>\n",
       "<p>5 rows × 22 columns</p>\n",
       "</div>"
      ],
      "text/plain": [
       "    age  sex  on_thyroxine  query_on_thyroxine  on_antithyroid_medication  \\\n",
       "0  41.0    0             0                   0                          0   \n",
       "1  23.0    0             0                   0                          0   \n",
       "2  46.0    1             0                   0                          0   \n",
       "3  70.0    0             1                   0                          0   \n",
       "4  70.0    0             0                   0                          0   \n",
       "\n",
       "   sick  pregnant  thyroid_surgery  I131_treatment  query_hypothyroid  ...  \\\n",
       "0     0         0                0               0                  0  ...   \n",
       "1     0         0                0               0                  0  ...   \n",
       "2     0         0                0               0                  0  ...   \n",
       "3     0         0                0               0                  0  ...   \n",
       "4     0         0                0               0                  0  ...   \n",
       "\n",
       "   goitre  tumor  hypopituitary  psych   TSH   T3    TT4   T4U    FTI  \\\n",
       "0       0      0              0      0  1.30  2.5  125.0  1.14  109.0   \n",
       "1       0      0              0      0  4.10  2.0  102.0  0.98  107.0   \n",
       "2       0      0              0      0  0.98  2.0  109.0  0.91  120.0   \n",
       "3       0      0              0      0  0.16  1.9  175.0  0.98  107.0   \n",
       "4       0      0              0      0  0.72  1.2   61.0  0.87   70.0   \n",
       "\n",
       "   referral_source  \n",
       "0                1  \n",
       "1                4  \n",
       "2                4  \n",
       "3                4  \n",
       "4                3  \n",
       "\n",
       "[5 rows x 22 columns]"
      ]
     },
     "execution_count": 51,
     "metadata": {},
     "output_type": "execute_result"
    }
   ],
   "source": [
    "from imblearn.over_sampling import RandomOverSampler\n",
    "\n",
    "ros=RandomOverSampler()\n",
    "X_sampled,y_sampled = ros.fit_resample(X,y)\n",
    "\n",
    "print(X_sampled.shape)\n",
    "\n",
    "X_sampled=pd.DataFrame(data=X_sampled,columns=X.columns)\n",
    "\n",
    "X_sampled.head()\n"
   ]
  },
  {
   "cell_type": "code",
   "execution_count": 146,
   "metadata": {
    "tags": []
   },
   "outputs": [
    {
     "data": {
      "text/plain": [
       "(10320,)"
      ]
     },
     "execution_count": 146,
     "metadata": {},
     "output_type": "execute_result"
    }
   ],
   "source": [
    "y_sampled.shape"
   ]
  },
  {
   "cell_type": "code",
   "execution_count": 52,
   "metadata": {
    "tags": []
   },
   "outputs": [
    {
     "data": {
      "text/plain": [
       "array([1, 1, 1, ..., 3, 3, 3])"
      ]
     },
     "execution_count": 52,
     "metadata": {},
     "output_type": "execute_result"
    }
   ],
   "source": [
    "y_sampled"
   ]
  },
  {
   "cell_type": "code",
   "execution_count": 53,
   "metadata": {
    "tags": []
   },
   "outputs": [
    {
     "name": "stdout",
     "output_type": "stream",
     "text": [
      "(8256, 22)\n",
      "(2064, 22)\n",
      "(8256,)\n",
      "(2064,)\n"
     ]
    }
   ],
   "source": [
    "# train test set\n",
    "X_train,X_test,y_train,y_test=train_test_split(X_sampled,y_sampled,test_size=0.2,random_state=42)\n",
    "print(X_train.shape)\n",
    "print(X_test.shape)\n",
    "print(y_train.shape)\n",
    "print(y_test.shape)"
   ]
  },
  {
   "cell_type": "markdown",
   "metadata": {},
   "source": [
    "# MODELS"
   ]
  },
  {
   "cell_type": "code",
   "execution_count": 54,
   "metadata": {},
   "outputs": [
    {
     "name": "stdout",
     "output_type": "stream",
     "text": [
      "Random Forest:\n",
      "\n",
      "training accuracy:1.0\n",
      "Testing accuracy:0.998546511627907\n",
      "confusion matrix:\n",
      "[[525   0   0   0]\n",
      " [  1 511   2   0]\n",
      " [  0   0 517   0]\n",
      " [  0   0   0 508]]\n"
     ]
    }
   ],
   "source": [
    "# RandomForestClassifier\n",
    "rfc=RandomForestClassifier(criterion='entropy',random_state=0)\n",
    "rfc.fit(X_train,y_train)\n",
    "y_pred=rfc.predict(X_test)\n",
    "cm=confusion_matrix(y_test,y_pred)\n",
    "print(\"Random Forest:\\n\")\n",
    "print(f'training accuracy:{rfc.score(X_train,y_train)}')\n",
    "print(f'Testing accuracy:{rfc.score(X_test,y_test)}')\n",
    "print(f'confusion matrix:\\n{cm}')\n"
   ]
  },
  {
   "cell_type": "code",
   "execution_count": 55,
   "metadata": {},
   "outputs": [
    {
     "name": "stdout",
     "output_type": "stream",
     "text": [
      "Support Vector Classifier:\n",
      "\n",
      "training accuracy:0.9998788759689923\n",
      "Testing accuracy:1.0\n",
      "confusion matrix:\n",
      "[[525   0   0   0]\n",
      " [  0 514   0   0]\n",
      " [  0   0 517   0]\n",
      " [  0   0   0 508]]\n"
     ]
    }
   ],
   "source": [
    "# SVC\n",
    "from sklearn.svm import SVC\n",
    "svc=SVC(gamma='auto')\n",
    "svc.fit(X_train,y_train)\n",
    "y_pred=svc.predict(X_test)\n",
    "cm=confusion_matrix(y_test,y_pred)\n",
    "print(\"Support Vector Classifier:\\n\")\n",
    "print(f'training accuracy:{svc.score(X_train,y_train)}')\n",
    "print(f'Testing accuracy:{svc.score(X_test,y_test)}')\n",
    "print(f'confusion matrix:\\n{cm}')"
   ]
  },
  {
   "cell_type": "code",
   "execution_count": 56,
   "metadata": {},
   "outputs": [
    {
     "name": "stdout",
     "output_type": "stream",
     "text": [
      "Decision Tree Classifier:\n",
      "\n",
      "training accuracy:0.9881298449612403\n",
      "Testing accuracy:0.9874031007751938\n",
      "confusion matrix:\n",
      "[[525   0   0   0]\n",
      " [  3 509   2   0]\n",
      " [ 21   0 496   0]\n",
      " [  0   0   0 508]]\n"
     ]
    }
   ],
   "source": [
    "# Decision Tree\n",
    "dt = DecisionTreeClassifier(max_depth = 4, criterion = 'entropy')\n",
    "dt.fit(X_train, y_train)\n",
    "y_pred=dt.predict(X_test)\n",
    "cm=confusion_matrix(y_test,y_pred)\n",
    "print(\"Decision Tree Classifier:\\n\")\n",
    "print(f'training accuracy:{dt.score(X_train,y_train)}')\n",
    "print(f'Testing accuracy:{dt.score(X_test,y_test)}')\n",
    "print(f'confusion matrix:\\n{cm}')"
   ]
  },
  {
   "cell_type": "code",
   "execution_count": 57,
   "metadata": {},
   "outputs": [
    {
     "name": "stdout",
     "output_type": "stream",
     "text": [
      "KNeighbors Classifier:\n",
      "\n",
      "training accuracy:0.9911579457364341\n",
      "Testing accuracy:0.9907945736434108\n",
      "confusion matrix:\n",
      "[[525   0   0   0]\n",
      " [ 17 495   2   0]\n",
      " [  0   0 517   0]\n",
      " [  0   0   0 508]]\n"
     ]
    }
   ],
   "source": [
    "# KNN\n",
    "knn=KNeighborsClassifier(metric='minkowski',p=2)\n",
    "knn.fit(X_train,y_train)\n",
    "y_pred=knn.predict(X_test)\n",
    "cm=confusion_matrix(y_test,y_pred)\n",
    "print(\"KNeighbors Classifier:\\n\")\n",
    "print(f'training accuracy:{knn.score(X_train,y_train)}')\n",
    "print(f'Testing accuracy:{knn.score(X_test,y_test)}')\n",
    "print(f'confusion matrix:\\n{cm}')"
   ]
  },
  {
   "cell_type": "code",
   "execution_count": 58,
   "metadata": {
    "tags": []
   },
   "outputs": [
    {
     "name": "stdout",
     "output_type": "stream",
     "text": [
      "KNeighbors Classifier:\n",
      "\n",
      "training accuracy:1.0\n",
      "Testing accuracy:0.998062015503876\n",
      "confusion matrix:\n",
      "[[525   0   0   0]\n",
      " [  1 510   3   0]\n",
      " [  0   0 517   0]\n",
      " [  0   0   0 508]]\n"
     ]
    }
   ],
   "source": [
    "# sgb\n",
    "from xgboost import XGBClassifier\n",
    "xgb=XGBClassifier()\n",
    "xgb.fit(X_train,y_train)\n",
    "y_pred=xgb.predict(X_test)\n",
    "cm=confusion_matrix(y_test,y_pred)\n",
    "print(\"KNeighbors Classifier:\\n\")\n",
    "print(f'training accuracy:{xgb.score(X_train,y_train)}')\n",
    "print(f'Testing accuracy:{xgb.score(X_test,y_test)}')\n",
    "print(f'confusion matrix:\\n{cm}')"
   ]
  },
  {
   "cell_type": "code",
   "execution_count": 59,
   "metadata": {},
   "outputs": [
    {
     "name": "stdout",
     "output_type": "stream",
     "text": [
      "              precision    recall  f1-score   support\n",
      "\n",
      "           0       1.00      1.00      1.00       525\n",
      "           1       1.00      0.99      1.00       514\n",
      "           2       0.99      1.00      1.00       517\n",
      "           3       1.00      1.00      1.00       508\n",
      "\n",
      "    accuracy                           1.00      2064\n",
      "   macro avg       1.00      1.00      1.00      2064\n",
      "weighted avg       1.00      1.00      1.00      2064\n",
      "\n"
     ]
    }
   ],
   "source": [
    "## Classification Report (Accuracy, Precision, Recall and F1 Score)\n",
    "from sklearn.metrics import roc_auc_score,roc_curve,classification_report\n",
    "\n",
    "print(classification_report(y_test,y_pred))"
   ]
  },
  {
   "cell_type": "code",
   "execution_count": 60,
   "metadata": {},
   "outputs": [
    {
     "name": "stdout",
     "output_type": "stream",
     "text": [
      "0.9987887592633354\n"
     ]
    }
   ],
   "source": [
    "# Hypertunning\n",
    "from sklearn.model_selection import cross_val_score\n",
    "accuracies = cross_val_score (estimator = rfc, X=X_train,y=y_train,cv=10)\n",
    "print(accuracies.mean())"
   ]
  },
  {
   "cell_type": "markdown",
   "metadata": {},
   "source": [
    "# Save model"
   ]
  },
  {
   "cell_type": "code",
   "execution_count": 61,
   "metadata": {},
   "outputs": [],
   "source": [
    "import pickle\n",
    "filename = ('thyroid_model.pkl')\n",
    "pickle.dump(rfc,open(filename,'wb'))"
   ]
  },
  {
   "cell_type": "markdown",
   "metadata": {},
   "source": [
    "# Load Model"
   ]
  },
  {
   "cell_type": "code",
   "execution_count": 62,
   "metadata": {},
   "outputs": [],
   "source": [
    "model = open('thyroid_model.pkl','rb')\n",
    "forest = pickle.load(model)"
   ]
  },
  {
   "cell_type": "code",
   "execution_count": 63,
   "metadata": {},
   "outputs": [
    {
     "data": {
      "text/plain": [
       "array([1, 0, 2, ..., 3, 1, 2])"
      ]
     },
     "execution_count": 63,
     "metadata": {},
     "output_type": "execute_result"
    }
   ],
   "source": [
    "y_pred = forest.predict(X_test)\n",
    "y_pred"
   ]
  },
  {
   "cell_type": "code",
   "execution_count": 64,
   "metadata": {},
   "outputs": [
    {
     "data": {
      "text/plain": [
       "array([[525,   0,   0,   0],\n",
       "       [  1, 511,   2,   0],\n",
       "       [  0,   0, 517,   0],\n",
       "       [  0,   0,   0, 508]], dtype=int64)"
      ]
     },
     "execution_count": 64,
     "metadata": {},
     "output_type": "execute_result"
    }
   ],
   "source": [
    "confusion_matrix(y_test, y_pred)"
   ]
  },
  {
   "cell_type": "markdown",
   "metadata": {},
   "source": [
    "# Prediction"
   ]
  },
  {
   "cell_type": "code",
   "execution_count": 65,
   "metadata": {
    "tags": []
   },
   "outputs": [
    {
     "data": {
      "text/plain": [
       "Index(['age', 'sex', 'on_thyroxine', 'query_on_thyroxine',\n",
       "       'on_antithyroid_medication', 'sick', 'pregnant', 'thyroid_surgery',\n",
       "       'I131_treatment', 'query_hypothyroid', 'query_hyperthyroid', 'lithium',\n",
       "       'goitre', 'tumor', 'hypopituitary', 'psych', 'TSH', 'T3', 'TT4', 'T4U',\n",
       "       'FTI', 'referral_source'],\n",
       "      dtype='object')"
      ]
     },
     "execution_count": 65,
     "metadata": {},
     "output_type": "execute_result"
    }
   ],
   "source": [
    "X_test.columns"
   ]
  },
  {
   "cell_type": "code",
   "execution_count": 66,
   "metadata": {
    "tags": []
   },
   "outputs": [
    {
     "data": {
      "text/html": [
       "<div>\n",
       "<style scoped>\n",
       "    .dataframe tbody tr th:only-of-type {\n",
       "        vertical-align: middle;\n",
       "    }\n",
       "\n",
       "    .dataframe tbody tr th {\n",
       "        vertical-align: top;\n",
       "    }\n",
       "\n",
       "    .dataframe thead th {\n",
       "        text-align: right;\n",
       "    }\n",
       "</style>\n",
       "<table border=\"1\" class=\"dataframe\">\n",
       "  <thead>\n",
       "    <tr style=\"text-align: right;\">\n",
       "      <th></th>\n",
       "      <th>age</th>\n",
       "      <th>sex</th>\n",
       "      <th>on_thyroxine</th>\n",
       "      <th>query_on_thyroxine</th>\n",
       "      <th>on_antithyroid_medication</th>\n",
       "      <th>sick</th>\n",
       "      <th>pregnant</th>\n",
       "      <th>thyroid_surgery</th>\n",
       "      <th>I131_treatment</th>\n",
       "      <th>query_hypothyroid</th>\n",
       "      <th>...</th>\n",
       "      <th>tumor</th>\n",
       "      <th>hypopituitary</th>\n",
       "      <th>psych</th>\n",
       "      <th>TSH</th>\n",
       "      <th>T3</th>\n",
       "      <th>TT4</th>\n",
       "      <th>T4U</th>\n",
       "      <th>FTI</th>\n",
       "      <th>referral_source</th>\n",
       "      <th>classes</th>\n",
       "    </tr>\n",
       "  </thead>\n",
       "  <tbody>\n",
       "    <tr>\n",
       "      <th>2795</th>\n",
       "      <td>70.0</td>\n",
       "      <td>1</td>\n",
       "      <td>0</td>\n",
       "      <td>0</td>\n",
       "      <td>0</td>\n",
       "      <td>0</td>\n",
       "      <td>0</td>\n",
       "      <td>0</td>\n",
       "      <td>0</td>\n",
       "      <td>0</td>\n",
       "      <td>...</td>\n",
       "      <td>0</td>\n",
       "      <td>0</td>\n",
       "      <td>0</td>\n",
       "      <td>2.7</td>\n",
       "      <td>2.0</td>\n",
       "      <td>155.0</td>\n",
       "      <td>1.05</td>\n",
       "      <td>148.0</td>\n",
       "      <td>3</td>\n",
       "      <td>negative</td>\n",
       "    </tr>\n",
       "    <tr>\n",
       "      <th>2796</th>\n",
       "      <td>73.0</td>\n",
       "      <td>1</td>\n",
       "      <td>0</td>\n",
       "      <td>1</td>\n",
       "      <td>0</td>\n",
       "      <td>0</td>\n",
       "      <td>0</td>\n",
       "      <td>0</td>\n",
       "      <td>0</td>\n",
       "      <td>0</td>\n",
       "      <td>...</td>\n",
       "      <td>0</td>\n",
       "      <td>0</td>\n",
       "      <td>0</td>\n",
       "      <td>1.4</td>\n",
       "      <td>0.7</td>\n",
       "      <td>63.0</td>\n",
       "      <td>0.88</td>\n",
       "      <td>72.0</td>\n",
       "      <td>4</td>\n",
       "      <td>negative</td>\n",
       "    </tr>\n",
       "    <tr>\n",
       "      <th>2797</th>\n",
       "      <td>75.0</td>\n",
       "      <td>1</td>\n",
       "      <td>0</td>\n",
       "      <td>0</td>\n",
       "      <td>0</td>\n",
       "      <td>0</td>\n",
       "      <td>0</td>\n",
       "      <td>0</td>\n",
       "      <td>0</td>\n",
       "      <td>0</td>\n",
       "      <td>...</td>\n",
       "      <td>0</td>\n",
       "      <td>0</td>\n",
       "      <td>0</td>\n",
       "      <td>1.4</td>\n",
       "      <td>2.0</td>\n",
       "      <td>147.0</td>\n",
       "      <td>0.80</td>\n",
       "      <td>183.0</td>\n",
       "      <td>4</td>\n",
       "      <td>negative</td>\n",
       "    </tr>\n",
       "    <tr>\n",
       "      <th>2798</th>\n",
       "      <td>60.0</td>\n",
       "      <td>0</td>\n",
       "      <td>0</td>\n",
       "      <td>0</td>\n",
       "      <td>0</td>\n",
       "      <td>0</td>\n",
       "      <td>0</td>\n",
       "      <td>0</td>\n",
       "      <td>0</td>\n",
       "      <td>0</td>\n",
       "      <td>...</td>\n",
       "      <td>0</td>\n",
       "      <td>0</td>\n",
       "      <td>0</td>\n",
       "      <td>1.4</td>\n",
       "      <td>2.0</td>\n",
       "      <td>100.0</td>\n",
       "      <td>0.83</td>\n",
       "      <td>121.0</td>\n",
       "      <td>4</td>\n",
       "      <td>negative</td>\n",
       "    </tr>\n",
       "    <tr>\n",
       "      <th>2799</th>\n",
       "      <td>81.0</td>\n",
       "      <td>0</td>\n",
       "      <td>0</td>\n",
       "      <td>0</td>\n",
       "      <td>0</td>\n",
       "      <td>0</td>\n",
       "      <td>0</td>\n",
       "      <td>0</td>\n",
       "      <td>0</td>\n",
       "      <td>0</td>\n",
       "      <td>...</td>\n",
       "      <td>0</td>\n",
       "      <td>0</td>\n",
       "      <td>0</td>\n",
       "      <td>1.2</td>\n",
       "      <td>1.5</td>\n",
       "      <td>114.0</td>\n",
       "      <td>0.99</td>\n",
       "      <td>115.0</td>\n",
       "      <td>3</td>\n",
       "      <td>negative</td>\n",
       "    </tr>\n",
       "  </tbody>\n",
       "</table>\n",
       "<p>5 rows × 23 columns</p>\n",
       "</div>"
      ],
      "text/plain": [
       "       age  sex  on_thyroxine  query_on_thyroxine  on_antithyroid_medication  \\\n",
       "2795  70.0    1             0                   0                          0   \n",
       "2796  73.0    1             0                   1                          0   \n",
       "2797  75.0    1             0                   0                          0   \n",
       "2798  60.0    0             0                   0                          0   \n",
       "2799  81.0    0             0                   0                          0   \n",
       "\n",
       "      sick  pregnant  thyroid_surgery  I131_treatment  query_hypothyroid  ...  \\\n",
       "2795     0         0                0               0                  0  ...   \n",
       "2796     0         0                0               0                  0  ...   \n",
       "2797     0         0                0               0                  0  ...   \n",
       "2798     0         0                0               0                  0  ...   \n",
       "2799     0         0                0               0                  0  ...   \n",
       "\n",
       "      tumor  hypopituitary  psych  TSH   T3    TT4   T4U    FTI  \\\n",
       "2795      0              0      0  2.7  2.0  155.0  1.05  148.0   \n",
       "2796      0              0      0  1.4  0.7   63.0  0.88   72.0   \n",
       "2797      0              0      0  1.4  2.0  147.0  0.80  183.0   \n",
       "2798      0              0      0  1.4  2.0  100.0  0.83  121.0   \n",
       "2799      0              0      0  1.2  1.5  114.0  0.99  115.0   \n",
       "\n",
       "      referral_source   classes  \n",
       "2795                3  negative  \n",
       "2796                4  negative  \n",
       "2797                4  negative  \n",
       "2798                4  negative  \n",
       "2799                3  negative  \n",
       "\n",
       "[5 rows x 23 columns]"
      ]
     },
     "execution_count": 66,
     "metadata": {},
     "output_type": "execute_result"
    }
   ],
   "source": [
    "#y_test.iloc[-2]\n",
    "#y_test\n",
    "df.tail()"
   ]
  },
  {
   "cell_type": "code",
   "execution_count": 67,
   "metadata": {
    "tags": []
   },
   "outputs": [
    {
     "data": {
      "text/plain": [
       "age                           29.00\n",
       "sex                            0.00\n",
       "on_thyroxine                   0.00\n",
       "query_on_thyroxine             0.00\n",
       "on_antithyroid_medication      0.00\n",
       "sick                           0.00\n",
       "pregnant                       0.00\n",
       "thyroid_surgery                0.00\n",
       "I131_treatment                 0.00\n",
       "query_hypothyroid              0.00\n",
       "query_hyperthyroid             0.00\n",
       "lithium                        0.00\n",
       "goitre                         0.00\n",
       "tumor                          0.00\n",
       "hypopituitary                  0.00\n",
       "psych                          0.00\n",
       "TSH                            1.40\n",
       "T3                             2.00\n",
       "TT4                          104.00\n",
       "T4U                            0.98\n",
       "FTI                          107.00\n",
       "referral_source                4.00\n",
       "Name: 828, dtype: float64"
      ]
     },
     "execution_count": 67,
     "metadata": {},
     "output_type": "execute_result"
    }
   ],
   "source": [
    "X_test.iloc[-2]"
   ]
  },
  {
   "cell_type": "code",
   "execution_count": 68,
   "metadata": {},
   "outputs": [
    {
     "name": "stdout",
     "output_type": "stream",
     "text": [
      "[1]\n"
     ]
    }
   ],
   "source": [
    "print(forest.predict([[29,0,0,0,0,0,0,0,0,0,0,0,0,0,0,0,1.40,2,104,0.98,107,4]]))"
   ]
  },
  {
   "cell_type": "code",
   "execution_count": 69,
   "metadata": {
    "tags": []
   },
   "outputs": [],
   "source": [
    "data=[[29,0,0,0,0,0,0,0,0,0,0,0,0,0,0,0,1.40,2,104,0.98,107,4]]"
   ]
  },
  {
   "cell_type": "code",
   "execution_count": 70,
   "metadata": {
    "tags": []
   },
   "outputs": [
    {
     "data": {
      "text/plain": [
       "array([1])"
      ]
     },
     "execution_count": 70,
     "metadata": {},
     "output_type": "execute_result"
    }
   ],
   "source": [
    "forest.predict(data)"
   ]
  },
  {
   "cell_type": "code",
   "execution_count": 71,
   "metadata": {
    "tags": []
   },
   "outputs": [],
   "source": [
    "label_predictor=joblib.load('label_encoder.joblib')"
   ]
  },
  {
   "cell_type": "code",
   "execution_count": 72,
   "metadata": {
    "tags": []
   },
   "outputs": [
    {
     "name": "stdout",
     "output_type": "stream",
     "text": [
      "['compensated hypothyroid' 'negative' 'primary hypothyroid'\n",
      " 'secondary hypothyroid']\n",
      "[0 1 2 3]\n"
     ]
    }
   ],
   "source": [
    "print(np.unique(target))\n",
    "print(np.unique(target_encoded))"
   ]
  },
  {
   "cell_type": "code",
   "execution_count": 73,
   "metadata": {
    "tags": []
   },
   "outputs": [
    {
     "data": {
      "text/plain": [
       "array(['secondary hypothyroid'], dtype=object)"
      ]
     },
     "execution_count": 73,
     "metadata": {},
     "output_type": "execute_result"
    }
   ],
   "source": [
    "label_predictor.inverse_transform([3])"
   ]
  },
  {
   "cell_type": "code",
   "execution_count": 3,
   "metadata": {
    "tags": []
   },
   "outputs": [
    {
     "ename": "NameError",
     "evalue": "name 'forest' is not defined",
     "output_type": "error",
     "traceback": [
      "\u001b[1;31m---------------------------------------------------------------------------\u001b[0m",
      "\u001b[1;31mNameError\u001b[0m                                 Traceback (most recent call last)",
      "Cell \u001b[1;32mIn[3], line 1\u001b[0m\n\u001b[1;32m----> 1\u001b[0m \u001b[43mforest\u001b[49m\u001b[38;5;241m.\u001b[39mpredict(data)[\u001b[38;5;241m0\u001b[39m]\n",
      "\u001b[1;31mNameError\u001b[0m: name 'forest' is not defined"
     ]
    }
   ],
   "source": [
    "forest.predict(data)[0]"
   ]
  },
  {
   "cell_type": "code",
   "execution_count": 75,
   "metadata": {},
   "outputs": [
    {
     "ename": "ValueError",
     "evalue": "Expected 2D array, got 1D array instead:\narray=[1.].\nReshape your data either using array.reshape(-1, 1) if your data has a single feature or array.reshape(1, -1) if it contains a single sample.",
     "output_type": "error",
     "traceback": [
      "\u001b[1;31m---------------------------------------------------------------------------\u001b[0m",
      "\u001b[1;31mValueError\u001b[0m                                Traceback (most recent call last)",
      "Cell \u001b[1;32mIn[75], line 1\u001b[0m\n\u001b[1;32m----> 1\u001b[0m \u001b[43mforest\u001b[49m\u001b[38;5;241;43m.\u001b[39;49m\u001b[43mpredict\u001b[49m\u001b[43m(\u001b[49m\u001b[43m[\u001b[49m\u001b[38;5;241;43m1\u001b[39;49m\u001b[43m]\u001b[49m\u001b[43m)\u001b[49m\n",
      "File \u001b[1;32m~\\anaconda3\\Lib\\site-packages\\sklearn\\ensemble\\_forest.py:820\u001b[0m, in \u001b[0;36mForestClassifier.predict\u001b[1;34m(self, X)\u001b[0m\n\u001b[0;32m    799\u001b[0m \u001b[38;5;28;01mdef\u001b[39;00m \u001b[38;5;21mpredict\u001b[39m(\u001b[38;5;28mself\u001b[39m, X):\n\u001b[0;32m    800\u001b[0m \u001b[38;5;250m    \u001b[39m\u001b[38;5;124;03m\"\"\"\u001b[39;00m\n\u001b[0;32m    801\u001b[0m \u001b[38;5;124;03m    Predict class for X.\u001b[39;00m\n\u001b[0;32m    802\u001b[0m \n\u001b[1;32m   (...)\u001b[0m\n\u001b[0;32m    818\u001b[0m \u001b[38;5;124;03m        The predicted classes.\u001b[39;00m\n\u001b[0;32m    819\u001b[0m \u001b[38;5;124;03m    \"\"\"\u001b[39;00m\n\u001b[1;32m--> 820\u001b[0m     proba \u001b[38;5;241m=\u001b[39m \u001b[38;5;28;43mself\u001b[39;49m\u001b[38;5;241;43m.\u001b[39;49m\u001b[43mpredict_proba\u001b[49m\u001b[43m(\u001b[49m\u001b[43mX\u001b[49m\u001b[43m)\u001b[49m\n\u001b[0;32m    822\u001b[0m     \u001b[38;5;28;01mif\u001b[39;00m \u001b[38;5;28mself\u001b[39m\u001b[38;5;241m.\u001b[39mn_outputs_ \u001b[38;5;241m==\u001b[39m \u001b[38;5;241m1\u001b[39m:\n\u001b[0;32m    823\u001b[0m         \u001b[38;5;28;01mreturn\u001b[39;00m \u001b[38;5;28mself\u001b[39m\u001b[38;5;241m.\u001b[39mclasses_\u001b[38;5;241m.\u001b[39mtake(np\u001b[38;5;241m.\u001b[39margmax(proba, axis\u001b[38;5;241m=\u001b[39m\u001b[38;5;241m1\u001b[39m), axis\u001b[38;5;241m=\u001b[39m\u001b[38;5;241m0\u001b[39m)\n",
      "File \u001b[1;32m~\\anaconda3\\Lib\\site-packages\\sklearn\\ensemble\\_forest.py:862\u001b[0m, in \u001b[0;36mForestClassifier.predict_proba\u001b[1;34m(self, X)\u001b[0m\n\u001b[0;32m    860\u001b[0m check_is_fitted(\u001b[38;5;28mself\u001b[39m)\n\u001b[0;32m    861\u001b[0m \u001b[38;5;66;03m# Check data\u001b[39;00m\n\u001b[1;32m--> 862\u001b[0m X \u001b[38;5;241m=\u001b[39m \u001b[38;5;28;43mself\u001b[39;49m\u001b[38;5;241;43m.\u001b[39;49m\u001b[43m_validate_X_predict\u001b[49m\u001b[43m(\u001b[49m\u001b[43mX\u001b[49m\u001b[43m)\u001b[49m\n\u001b[0;32m    864\u001b[0m \u001b[38;5;66;03m# Assign chunk of trees to jobs\u001b[39;00m\n\u001b[0;32m    865\u001b[0m n_jobs, _, _ \u001b[38;5;241m=\u001b[39m _partition_estimators(\u001b[38;5;28mself\u001b[39m\u001b[38;5;241m.\u001b[39mn_estimators, \u001b[38;5;28mself\u001b[39m\u001b[38;5;241m.\u001b[39mn_jobs)\n",
      "File \u001b[1;32m~\\anaconda3\\Lib\\site-packages\\sklearn\\ensemble\\_forest.py:602\u001b[0m, in \u001b[0;36mBaseForest._validate_X_predict\u001b[1;34m(self, X)\u001b[0m\n\u001b[0;32m    599\u001b[0m \u001b[38;5;250m\u001b[39m\u001b[38;5;124;03m\"\"\"\u001b[39;00m\n\u001b[0;32m    600\u001b[0m \u001b[38;5;124;03mValidate X whenever one tries to predict, apply, predict_proba.\"\"\"\u001b[39;00m\n\u001b[0;32m    601\u001b[0m check_is_fitted(\u001b[38;5;28mself\u001b[39m)\n\u001b[1;32m--> 602\u001b[0m X \u001b[38;5;241m=\u001b[39m \u001b[38;5;28;43mself\u001b[39;49m\u001b[38;5;241;43m.\u001b[39;49m\u001b[43m_validate_data\u001b[49m\u001b[43m(\u001b[49m\u001b[43mX\u001b[49m\u001b[43m,\u001b[49m\u001b[43m \u001b[49m\u001b[43mdtype\u001b[49m\u001b[38;5;241;43m=\u001b[39;49m\u001b[43mDTYPE\u001b[49m\u001b[43m,\u001b[49m\u001b[43m \u001b[49m\u001b[43maccept_sparse\u001b[49m\u001b[38;5;241;43m=\u001b[39;49m\u001b[38;5;124;43m\"\u001b[39;49m\u001b[38;5;124;43mcsr\u001b[39;49m\u001b[38;5;124;43m\"\u001b[39;49m\u001b[43m,\u001b[49m\u001b[43m \u001b[49m\u001b[43mreset\u001b[49m\u001b[38;5;241;43m=\u001b[39;49m\u001b[38;5;28;43;01mFalse\u001b[39;49;00m\u001b[43m)\u001b[49m\n\u001b[0;32m    603\u001b[0m \u001b[38;5;28;01mif\u001b[39;00m issparse(X) \u001b[38;5;129;01mand\u001b[39;00m (X\u001b[38;5;241m.\u001b[39mindices\u001b[38;5;241m.\u001b[39mdtype \u001b[38;5;241m!=\u001b[39m np\u001b[38;5;241m.\u001b[39mintc \u001b[38;5;129;01mor\u001b[39;00m X\u001b[38;5;241m.\u001b[39mindptr\u001b[38;5;241m.\u001b[39mdtype \u001b[38;5;241m!=\u001b[39m np\u001b[38;5;241m.\u001b[39mintc):\n\u001b[0;32m    604\u001b[0m     \u001b[38;5;28;01mraise\u001b[39;00m \u001b[38;5;167;01mValueError\u001b[39;00m(\u001b[38;5;124m\"\u001b[39m\u001b[38;5;124mNo support for np.int64 index based sparse matrices\u001b[39m\u001b[38;5;124m\"\u001b[39m)\n",
      "File \u001b[1;32m~\\anaconda3\\Lib\\site-packages\\sklearn\\base.py:565\u001b[0m, in \u001b[0;36mBaseEstimator._validate_data\u001b[1;34m(self, X, y, reset, validate_separately, **check_params)\u001b[0m\n\u001b[0;32m    563\u001b[0m     \u001b[38;5;28;01mraise\u001b[39;00m \u001b[38;5;167;01mValueError\u001b[39;00m(\u001b[38;5;124m\"\u001b[39m\u001b[38;5;124mValidation should be done on X, y or both.\u001b[39m\u001b[38;5;124m\"\u001b[39m)\n\u001b[0;32m    564\u001b[0m \u001b[38;5;28;01melif\u001b[39;00m \u001b[38;5;129;01mnot\u001b[39;00m no_val_X \u001b[38;5;129;01mand\u001b[39;00m no_val_y:\n\u001b[1;32m--> 565\u001b[0m     X \u001b[38;5;241m=\u001b[39m \u001b[43mcheck_array\u001b[49m\u001b[43m(\u001b[49m\u001b[43mX\u001b[49m\u001b[43m,\u001b[49m\u001b[43m \u001b[49m\u001b[43minput_name\u001b[49m\u001b[38;5;241;43m=\u001b[39;49m\u001b[38;5;124;43m\"\u001b[39;49m\u001b[38;5;124;43mX\u001b[39;49m\u001b[38;5;124;43m\"\u001b[39;49m\u001b[43m,\u001b[49m\u001b[43m \u001b[49m\u001b[38;5;241;43m*\u001b[39;49m\u001b[38;5;241;43m*\u001b[39;49m\u001b[43mcheck_params\u001b[49m\u001b[43m)\u001b[49m\n\u001b[0;32m    566\u001b[0m     out \u001b[38;5;241m=\u001b[39m X\n\u001b[0;32m    567\u001b[0m \u001b[38;5;28;01melif\u001b[39;00m no_val_X \u001b[38;5;129;01mand\u001b[39;00m \u001b[38;5;129;01mnot\u001b[39;00m no_val_y:\n",
      "File \u001b[1;32m~\\anaconda3\\Lib\\site-packages\\sklearn\\utils\\validation.py:902\u001b[0m, in \u001b[0;36mcheck_array\u001b[1;34m(array, accept_sparse, accept_large_sparse, dtype, order, copy, force_all_finite, ensure_2d, allow_nd, ensure_min_samples, ensure_min_features, estimator, input_name)\u001b[0m\n\u001b[0;32m    900\u001b[0m     \u001b[38;5;66;03m# If input is 1D raise error\u001b[39;00m\n\u001b[0;32m    901\u001b[0m     \u001b[38;5;28;01mif\u001b[39;00m array\u001b[38;5;241m.\u001b[39mndim \u001b[38;5;241m==\u001b[39m \u001b[38;5;241m1\u001b[39m:\n\u001b[1;32m--> 902\u001b[0m         \u001b[38;5;28;01mraise\u001b[39;00m \u001b[38;5;167;01mValueError\u001b[39;00m(\n\u001b[0;32m    903\u001b[0m             \u001b[38;5;124m\"\u001b[39m\u001b[38;5;124mExpected 2D array, got 1D array instead:\u001b[39m\u001b[38;5;130;01m\\n\u001b[39;00m\u001b[38;5;124marray=\u001b[39m\u001b[38;5;132;01m{}\u001b[39;00m\u001b[38;5;124m.\u001b[39m\u001b[38;5;130;01m\\n\u001b[39;00m\u001b[38;5;124m\"\u001b[39m\n\u001b[0;32m    904\u001b[0m             \u001b[38;5;124m\"\u001b[39m\u001b[38;5;124mReshape your data either using array.reshape(-1, 1) if \u001b[39m\u001b[38;5;124m\"\u001b[39m\n\u001b[0;32m    905\u001b[0m             \u001b[38;5;124m\"\u001b[39m\u001b[38;5;124myour data has a single feature or array.reshape(1, -1) \u001b[39m\u001b[38;5;124m\"\u001b[39m\n\u001b[0;32m    906\u001b[0m             \u001b[38;5;124m\"\u001b[39m\u001b[38;5;124mif it contains a single sample.\u001b[39m\u001b[38;5;124m\"\u001b[39m\u001b[38;5;241m.\u001b[39mformat(array)\n\u001b[0;32m    907\u001b[0m         )\n\u001b[0;32m    909\u001b[0m \u001b[38;5;28;01mif\u001b[39;00m dtype_numeric \u001b[38;5;129;01mand\u001b[39;00m array\u001b[38;5;241m.\u001b[39mdtype\u001b[38;5;241m.\u001b[39mkind \u001b[38;5;129;01min\u001b[39;00m \u001b[38;5;124m\"\u001b[39m\u001b[38;5;124mUSV\u001b[39m\u001b[38;5;124m\"\u001b[39m:\n\u001b[0;32m    910\u001b[0m     \u001b[38;5;28;01mraise\u001b[39;00m \u001b[38;5;167;01mValueError\u001b[39;00m(\n\u001b[0;32m    911\u001b[0m         \u001b[38;5;124m\"\u001b[39m\u001b[38;5;124mdtype=\u001b[39m\u001b[38;5;124m'\u001b[39m\u001b[38;5;124mnumeric\u001b[39m\u001b[38;5;124m'\u001b[39m\u001b[38;5;124m is not compatible with arrays of bytes/strings.\u001b[39m\u001b[38;5;124m\"\u001b[39m\n\u001b[0;32m    912\u001b[0m         \u001b[38;5;124m\"\u001b[39m\u001b[38;5;124mConvert your data to numeric values explicitly instead.\u001b[39m\u001b[38;5;124m\"\u001b[39m\n\u001b[0;32m    913\u001b[0m     )\n",
      "\u001b[1;31mValueError\u001b[0m: Expected 2D array, got 1D array instead:\narray=[1.].\nReshape your data either using array.reshape(-1, 1) if your data has a single feature or array.reshape(1, -1) if it contains a single sample."
     ]
    }
   ],
   "source": [
    "forest.predict([1])"
   ]
  },
  {
   "cell_type": "code",
   "execution_count": null,
   "metadata": {},
   "outputs": [],
   "source": []
  }
 ],
 "metadata": {
  "kernelspec": {
   "display_name": "Python 3 (ipykernel)",
   "language": "python",
   "name": "python3"
  },
  "language_info": {
   "codemirror_mode": {
    "name": "ipython",
    "version": 3
   },
   "file_extension": ".py",
   "mimetype": "text/x-python",
   "name": "python",
   "nbconvert_exporter": "python",
   "pygments_lexer": "ipython3",
   "version": "3.11.5"
  }
 },
 "nbformat": 4,
 "nbformat_minor": 4
}
